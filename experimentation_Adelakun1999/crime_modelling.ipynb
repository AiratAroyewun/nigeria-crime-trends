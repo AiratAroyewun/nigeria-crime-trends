{
 "cells": [
  {
   "cell_type": "code",
   "execution_count": 154,
   "metadata": {},
   "outputs": [],
   "source": [
    "import pandas as pd \n",
    "import numpy as np\n",
    "import matplotlib.pyplot as plt \n",
    "import seaborn as sns "
   ]
  },
  {
   "cell_type": "code",
   "execution_count": 155,
   "metadata": {},
   "outputs": [
    {
     "data": {
      "text/html": [
       "<div>\n",
       "<style scoped>\n",
       "    .dataframe tbody tr th:only-of-type {\n",
       "        vertical-align: middle;\n",
       "    }\n",
       "\n",
       "    .dataframe tbody tr th {\n",
       "        vertical-align: top;\n",
       "    }\n",
       "\n",
       "    .dataframe thead th {\n",
       "        text-align: right;\n",
       "    }\n",
       "</style>\n",
       "<table border=\"1\" class=\"dataframe\">\n",
       "  <thead>\n",
       "    <tr style=\"text-align: right;\">\n",
       "      <th></th>\n",
       "      <th>event_date</th>\n",
       "      <th>year</th>\n",
       "      <th>disorder_type</th>\n",
       "      <th>event_type</th>\n",
       "      <th>sub_event_type</th>\n",
       "      <th>actor1</th>\n",
       "      <th>inter1</th>\n",
       "      <th>civilian_targeting</th>\n",
       "      <th>admin1</th>\n",
       "      <th>admin2</th>\n",
       "      <th>location</th>\n",
       "      <th>latitude</th>\n",
       "      <th>longitude</th>\n",
       "      <th>fatalities</th>\n",
       "    </tr>\n",
       "  </thead>\n",
       "  <tbody>\n",
       "    <tr>\n",
       "      <th>0</th>\n",
       "      <td>2024-09-20</td>\n",
       "      <td>2024</td>\n",
       "      <td>Demonstrations</td>\n",
       "      <td>Protests</td>\n",
       "      <td>Peaceful protest</td>\n",
       "      <td>Protesters (Nigeria)</td>\n",
       "      <td>6</td>\n",
       "      <td>Unknown</td>\n",
       "      <td>Borno</td>\n",
       "      <td>Maiduguri Metro</td>\n",
       "      <td>Bolori</td>\n",
       "      <td>11.8826</td>\n",
       "      <td>13.0890</td>\n",
       "      <td>0</td>\n",
       "    </tr>\n",
       "    <tr>\n",
       "      <th>1</th>\n",
       "      <td>2024-09-20</td>\n",
       "      <td>2024</td>\n",
       "      <td>Demonstrations</td>\n",
       "      <td>Protests</td>\n",
       "      <td>Peaceful protest</td>\n",
       "      <td>Protesters (Nigeria)</td>\n",
       "      <td>6</td>\n",
       "      <td>Unknown</td>\n",
       "      <td>Osun</td>\n",
       "      <td>Ife Central</td>\n",
       "      <td>Ile-Ife</td>\n",
       "      <td>7.4824</td>\n",
       "      <td>4.5603</td>\n",
       "      <td>0</td>\n",
       "    </tr>\n",
       "    <tr>\n",
       "      <th>2</th>\n",
       "      <td>2024-09-19</td>\n",
       "      <td>2024</td>\n",
       "      <td>Demonstrations</td>\n",
       "      <td>Protests</td>\n",
       "      <td>Peaceful protest</td>\n",
       "      <td>Protesters (Nigeria)</td>\n",
       "      <td>6</td>\n",
       "      <td>Unknown</td>\n",
       "      <td>Oyo</td>\n",
       "      <td>Ibadan North</td>\n",
       "      <td>Agodi</td>\n",
       "      <td>7.4035</td>\n",
       "      <td>3.9132</td>\n",
       "      <td>0</td>\n",
       "    </tr>\n",
       "    <tr>\n",
       "      <th>3</th>\n",
       "      <td>2024-09-19</td>\n",
       "      <td>2024</td>\n",
       "      <td>Strategic developments</td>\n",
       "      <td>Strategic developments</td>\n",
       "      <td>Disrupted weapons use</td>\n",
       "      <td>Police Forces of Nigeria (2023-)</td>\n",
       "      <td>1</td>\n",
       "      <td>Unknown</td>\n",
       "      <td>Kaduna</td>\n",
       "      <td>Chikun</td>\n",
       "      <td>Buruku</td>\n",
       "      <td>10.6179</td>\n",
       "      <td>7.2331</td>\n",
       "      <td>0</td>\n",
       "    </tr>\n",
       "    <tr>\n",
       "      <th>4</th>\n",
       "      <td>2024-09-19</td>\n",
       "      <td>2024</td>\n",
       "      <td>Demonstrations</td>\n",
       "      <td>Protests</td>\n",
       "      <td>Peaceful protest</td>\n",
       "      <td>Protesters (Nigeria)</td>\n",
       "      <td>6</td>\n",
       "      <td>Unknown</td>\n",
       "      <td>Edo</td>\n",
       "      <td>Etsako East</td>\n",
       "      <td>Wanno</td>\n",
       "      <td>7.1389</td>\n",
       "      <td>6.5724</td>\n",
       "      <td>0</td>\n",
       "    </tr>\n",
       "  </tbody>\n",
       "</table>\n",
       "</div>"
      ],
      "text/plain": [
       "   event_date  year           disorder_type              event_type  \\\n",
       "0  2024-09-20  2024          Demonstrations                Protests   \n",
       "1  2024-09-20  2024          Demonstrations                Protests   \n",
       "2  2024-09-19  2024          Demonstrations                Protests   \n",
       "3  2024-09-19  2024  Strategic developments  Strategic developments   \n",
       "4  2024-09-19  2024          Demonstrations                Protests   \n",
       "\n",
       "          sub_event_type                            actor1  inter1  \\\n",
       "0       Peaceful protest              Protesters (Nigeria)       6   \n",
       "1       Peaceful protest              Protesters (Nigeria)       6   \n",
       "2       Peaceful protest              Protesters (Nigeria)       6   \n",
       "3  Disrupted weapons use  Police Forces of Nigeria (2023-)       1   \n",
       "4       Peaceful protest              Protesters (Nigeria)       6   \n",
       "\n",
       "  civilian_targeting  admin1           admin2 location  latitude  longitude  \\\n",
       "0            Unknown   Borno  Maiduguri Metro   Bolori   11.8826    13.0890   \n",
       "1            Unknown    Osun      Ife Central  Ile-Ife    7.4824     4.5603   \n",
       "2            Unknown     Oyo     Ibadan North    Agodi    7.4035     3.9132   \n",
       "3            Unknown  Kaduna           Chikun   Buruku   10.6179     7.2331   \n",
       "4            Unknown     Edo      Etsako East    Wanno    7.1389     6.5724   \n",
       "\n",
       "   fatalities  \n",
       "0           0  \n",
       "1           0  \n",
       "2           0  \n",
       "3           0  \n",
       "4           0  "
      ]
     },
     "execution_count": 155,
     "metadata": {},
     "output_type": "execute_result"
    }
   ],
   "source": [
    "#load data\n",
    "df = pd.read_csv('Nigeria_1997-2024_Sep20_cleaned.csv')\n",
    "df.head()"
   ]
  },
  {
   "cell_type": "code",
   "execution_count": 3,
   "metadata": {},
   "outputs": [
    {
     "data": {
      "text/plain": [
       "(37794, 14)"
      ]
     },
     "execution_count": 3,
     "metadata": {},
     "output_type": "execute_result"
    }
   ],
   "source": [
    "df.shape "
   ]
  },
  {
   "cell_type": "code",
   "execution_count": 156,
   "metadata": {},
   "outputs": [],
   "source": [
    "df['event_date'] = pd.to_datetime(df['event_date'])"
   ]
  },
  {
   "cell_type": "code",
   "execution_count": 157,
   "metadata": {},
   "outputs": [
    {
     "data": {
      "text/html": [
       "<div>\n",
       "<style scoped>\n",
       "    .dataframe tbody tr th:only-of-type {\n",
       "        vertical-align: middle;\n",
       "    }\n",
       "\n",
       "    .dataframe tbody tr th {\n",
       "        vertical-align: top;\n",
       "    }\n",
       "\n",
       "    .dataframe thead th {\n",
       "        text-align: right;\n",
       "    }\n",
       "</style>\n",
       "<table border=\"1\" class=\"dataframe\">\n",
       "  <thead>\n",
       "    <tr style=\"text-align: right;\">\n",
       "      <th></th>\n",
       "      <th>event_date</th>\n",
       "      <th>year</th>\n",
       "      <th>disorder_type</th>\n",
       "      <th>event_type</th>\n",
       "      <th>sub_event_type</th>\n",
       "      <th>actor1</th>\n",
       "      <th>inter1</th>\n",
       "      <th>civilian_targeting</th>\n",
       "      <th>admin1</th>\n",
       "      <th>admin2</th>\n",
       "      <th>location</th>\n",
       "      <th>latitude</th>\n",
       "      <th>longitude</th>\n",
       "      <th>fatalities</th>\n",
       "      <th>month</th>\n",
       "    </tr>\n",
       "  </thead>\n",
       "  <tbody>\n",
       "    <tr>\n",
       "      <th>0</th>\n",
       "      <td>2024-09-20</td>\n",
       "      <td>2024</td>\n",
       "      <td>Demonstrations</td>\n",
       "      <td>Protests</td>\n",
       "      <td>Peaceful protest</td>\n",
       "      <td>Protesters (Nigeria)</td>\n",
       "      <td>6</td>\n",
       "      <td>Unknown</td>\n",
       "      <td>Borno</td>\n",
       "      <td>Maiduguri Metro</td>\n",
       "      <td>Bolori</td>\n",
       "      <td>11.8826</td>\n",
       "      <td>13.0890</td>\n",
       "      <td>0</td>\n",
       "      <td>9</td>\n",
       "    </tr>\n",
       "    <tr>\n",
       "      <th>1</th>\n",
       "      <td>2024-09-20</td>\n",
       "      <td>2024</td>\n",
       "      <td>Demonstrations</td>\n",
       "      <td>Protests</td>\n",
       "      <td>Peaceful protest</td>\n",
       "      <td>Protesters (Nigeria)</td>\n",
       "      <td>6</td>\n",
       "      <td>Unknown</td>\n",
       "      <td>Osun</td>\n",
       "      <td>Ife Central</td>\n",
       "      <td>Ile-Ife</td>\n",
       "      <td>7.4824</td>\n",
       "      <td>4.5603</td>\n",
       "      <td>0</td>\n",
       "      <td>9</td>\n",
       "    </tr>\n",
       "    <tr>\n",
       "      <th>2</th>\n",
       "      <td>2024-09-19</td>\n",
       "      <td>2024</td>\n",
       "      <td>Demonstrations</td>\n",
       "      <td>Protests</td>\n",
       "      <td>Peaceful protest</td>\n",
       "      <td>Protesters (Nigeria)</td>\n",
       "      <td>6</td>\n",
       "      <td>Unknown</td>\n",
       "      <td>Oyo</td>\n",
       "      <td>Ibadan North</td>\n",
       "      <td>Agodi</td>\n",
       "      <td>7.4035</td>\n",
       "      <td>3.9132</td>\n",
       "      <td>0</td>\n",
       "      <td>9</td>\n",
       "    </tr>\n",
       "  </tbody>\n",
       "</table>\n",
       "</div>"
      ],
      "text/plain": [
       "  event_date  year   disorder_type event_type    sub_event_type  \\\n",
       "0 2024-09-20  2024  Demonstrations   Protests  Peaceful protest   \n",
       "1 2024-09-20  2024  Demonstrations   Protests  Peaceful protest   \n",
       "2 2024-09-19  2024  Demonstrations   Protests  Peaceful protest   \n",
       "\n",
       "                 actor1  inter1 civilian_targeting admin1           admin2  \\\n",
       "0  Protesters (Nigeria)       6            Unknown  Borno  Maiduguri Metro   \n",
       "1  Protesters (Nigeria)       6            Unknown   Osun      Ife Central   \n",
       "2  Protesters (Nigeria)       6            Unknown    Oyo     Ibadan North   \n",
       "\n",
       "  location  latitude  longitude  fatalities  month  \n",
       "0   Bolori   11.8826    13.0890           0      9  \n",
       "1  Ile-Ife    7.4824     4.5603           0      9  \n",
       "2    Agodi    7.4035     3.9132           0      9  "
      ]
     },
     "execution_count": 157,
     "metadata": {},
     "output_type": "execute_result"
    }
   ],
   "source": [
    "#create month column\n",
    "df['month'] = df['event_date'].dt.month\n",
    "df.head(3)"
   ]
  },
  {
   "cell_type": "code",
   "execution_count": 158,
   "metadata": {},
   "outputs": [
    {
     "data": {
      "text/plain": [
       "array([ 9,  8,  7,  6,  5,  4,  3,  2,  1, 12, 11, 10])"
      ]
     },
     "execution_count": 158,
     "metadata": {},
     "output_type": "execute_result"
    }
   ],
   "source": [
    "df['month'].unique()"
   ]
  },
  {
   "cell_type": "code",
   "execution_count": 138,
   "metadata": {},
   "outputs": [
    {
     "data": {
      "text/html": [
       "<div>\n",
       "<style scoped>\n",
       "    .dataframe tbody tr th:only-of-type {\n",
       "        vertical-align: middle;\n",
       "    }\n",
       "\n",
       "    .dataframe tbody tr th {\n",
       "        vertical-align: top;\n",
       "    }\n",
       "\n",
       "    .dataframe thead th {\n",
       "        text-align: right;\n",
       "    }\n",
       "</style>\n",
       "<table border=\"1\" class=\"dataframe\">\n",
       "  <thead>\n",
       "    <tr style=\"text-align: right;\">\n",
       "      <th></th>\n",
       "      <th>year</th>\n",
       "      <th>disorder_type</th>\n",
       "      <th>event_type</th>\n",
       "      <th>sub_event_type</th>\n",
       "      <th>actor1</th>\n",
       "      <th>inter1</th>\n",
       "      <th>civilian_targeting</th>\n",
       "      <th>admin1</th>\n",
       "      <th>admin2</th>\n",
       "      <th>location</th>\n",
       "      <th>latitude</th>\n",
       "      <th>longitude</th>\n",
       "      <th>fatalities</th>\n",
       "    </tr>\n",
       "  </thead>\n",
       "  <tbody>\n",
       "    <tr>\n",
       "      <th>0</th>\n",
       "      <td>2024</td>\n",
       "      <td>Demonstrations</td>\n",
       "      <td>Protests</td>\n",
       "      <td>Peaceful protest</td>\n",
       "      <td>Protesters (Nigeria)</td>\n",
       "      <td>6</td>\n",
       "      <td>Unknown</td>\n",
       "      <td>Borno</td>\n",
       "      <td>Maiduguri Metro</td>\n",
       "      <td>Bolori</td>\n",
       "      <td>11.8826</td>\n",
       "      <td>13.0890</td>\n",
       "      <td>0</td>\n",
       "    </tr>\n",
       "    <tr>\n",
       "      <th>1</th>\n",
       "      <td>2024</td>\n",
       "      <td>Demonstrations</td>\n",
       "      <td>Protests</td>\n",
       "      <td>Peaceful protest</td>\n",
       "      <td>Protesters (Nigeria)</td>\n",
       "      <td>6</td>\n",
       "      <td>Unknown</td>\n",
       "      <td>Osun</td>\n",
       "      <td>Ife Central</td>\n",
       "      <td>Ile-Ife</td>\n",
       "      <td>7.4824</td>\n",
       "      <td>4.5603</td>\n",
       "      <td>0</td>\n",
       "    </tr>\n",
       "    <tr>\n",
       "      <th>2</th>\n",
       "      <td>2024</td>\n",
       "      <td>Demonstrations</td>\n",
       "      <td>Protests</td>\n",
       "      <td>Peaceful protest</td>\n",
       "      <td>Protesters (Nigeria)</td>\n",
       "      <td>6</td>\n",
       "      <td>Unknown</td>\n",
       "      <td>Oyo</td>\n",
       "      <td>Ibadan North</td>\n",
       "      <td>Agodi</td>\n",
       "      <td>7.4035</td>\n",
       "      <td>3.9132</td>\n",
       "      <td>0</td>\n",
       "    </tr>\n",
       "  </tbody>\n",
       "</table>\n",
       "</div>"
      ],
      "text/plain": [
       "   year   disorder_type event_type    sub_event_type                actor1  \\\n",
       "0  2024  Demonstrations   Protests  Peaceful protest  Protesters (Nigeria)   \n",
       "1  2024  Demonstrations   Protests  Peaceful protest  Protesters (Nigeria)   \n",
       "2  2024  Demonstrations   Protests  Peaceful protest  Protesters (Nigeria)   \n",
       "\n",
       "   inter1 civilian_targeting admin1           admin2 location  latitude  \\\n",
       "0       6            Unknown  Borno  Maiduguri Metro   Bolori   11.8826   \n",
       "1       6            Unknown   Osun      Ife Central  Ile-Ife    7.4824   \n",
       "2       6            Unknown    Oyo     Ibadan North    Agodi    7.4035   \n",
       "\n",
       "   longitude  fatalities  \n",
       "0    13.0890           0  \n",
       "1     4.5603           0  \n",
       "2     3.9132           0  "
      ]
     },
     "execution_count": 138,
     "metadata": {},
     "output_type": "execute_result"
    }
   ],
   "source": [
    "df.drop(columns='event_date', inplace=True)\n",
    "df.head(3)"
   ]
  },
  {
   "cell_type": "code",
   "execution_count": 159,
   "metadata": {},
   "outputs": [
    {
     "data": {
      "text/plain": [
       "['disorder_type',\n",
       " 'event_type',\n",
       " 'sub_event_type',\n",
       " 'actor1',\n",
       " 'civilian_targeting',\n",
       " 'admin1',\n",
       " 'admin2',\n",
       " 'location']"
      ]
     },
     "execution_count": 159,
     "metadata": {},
     "output_type": "execute_result"
    }
   ],
   "source": [
    "#categorical column\n",
    "\n",
    "cat_col = [var  for var in df.columns if df[var].dtype=='object']\n",
    "cat_col"
   ]
  },
  {
   "cell_type": "code",
   "execution_count": 160,
   "metadata": {},
   "outputs": [
    {
     "data": {
      "text/plain": [
       "array(['Protests', 'Strategic developments', 'Battles', 'Riots',\n",
       "       'Violence against civilians', 'Explosions/Remote violence'],\n",
       "      dtype=object)"
      ]
     },
     "execution_count": 160,
     "metadata": {},
     "output_type": "execute_result"
    }
   ],
   "source": [
    "df['event_type'].unique()"
   ]
  },
  {
   "cell_type": "code",
   "execution_count": 161,
   "metadata": {},
   "outputs": [
    {
     "data": {
      "text/html": [
       "<div>\n",
       "<style scoped>\n",
       "    .dataframe tbody tr th:only-of-type {\n",
       "        vertical-align: middle;\n",
       "    }\n",
       "\n",
       "    .dataframe tbody tr th {\n",
       "        vertical-align: top;\n",
       "    }\n",
       "\n",
       "    .dataframe thead th {\n",
       "        text-align: right;\n",
       "    }\n",
       "</style>\n",
       "<table border=\"1\" class=\"dataframe\">\n",
       "  <thead>\n",
       "    <tr style=\"text-align: right;\">\n",
       "      <th></th>\n",
       "      <th>event_date</th>\n",
       "      <th>year</th>\n",
       "      <th>disorder_type</th>\n",
       "      <th>event_type</th>\n",
       "      <th>sub_event_type</th>\n",
       "      <th>actor1</th>\n",
       "      <th>inter1</th>\n",
       "      <th>civilian_targeting</th>\n",
       "      <th>admin1</th>\n",
       "      <th>admin2</th>\n",
       "      <th>location</th>\n",
       "      <th>latitude</th>\n",
       "      <th>longitude</th>\n",
       "      <th>fatalities</th>\n",
       "      <th>month</th>\n",
       "    </tr>\n",
       "  </thead>\n",
       "  <tbody>\n",
       "    <tr>\n",
       "      <th>0</th>\n",
       "      <td>2024-09-20</td>\n",
       "      <td>2024</td>\n",
       "      <td>Demonstrations</td>\n",
       "      <td>Protests</td>\n",
       "      <td>Peaceful protest</td>\n",
       "      <td>Protesters (Nigeria)</td>\n",
       "      <td>6</td>\n",
       "      <td>Unknown</td>\n",
       "      <td>Borno</td>\n",
       "      <td>Maiduguri Metro</td>\n",
       "      <td>Bolori</td>\n",
       "      <td>11.8826</td>\n",
       "      <td>13.0890</td>\n",
       "      <td>0</td>\n",
       "      <td>9</td>\n",
       "    </tr>\n",
       "    <tr>\n",
       "      <th>1</th>\n",
       "      <td>2024-09-20</td>\n",
       "      <td>2024</td>\n",
       "      <td>Demonstrations</td>\n",
       "      <td>Protests</td>\n",
       "      <td>Peaceful protest</td>\n",
       "      <td>Protesters (Nigeria)</td>\n",
       "      <td>6</td>\n",
       "      <td>Unknown</td>\n",
       "      <td>Osun</td>\n",
       "      <td>Ife Central</td>\n",
       "      <td>Ile-Ife</td>\n",
       "      <td>7.4824</td>\n",
       "      <td>4.5603</td>\n",
       "      <td>0</td>\n",
       "      <td>9</td>\n",
       "    </tr>\n",
       "    <tr>\n",
       "      <th>2</th>\n",
       "      <td>2024-09-19</td>\n",
       "      <td>2024</td>\n",
       "      <td>Demonstrations</td>\n",
       "      <td>Protests</td>\n",
       "      <td>Peaceful protest</td>\n",
       "      <td>Protesters (Nigeria)</td>\n",
       "      <td>6</td>\n",
       "      <td>Unknown</td>\n",
       "      <td>Oyo</td>\n",
       "      <td>Ibadan North</td>\n",
       "      <td>Agodi</td>\n",
       "      <td>7.4035</td>\n",
       "      <td>3.9132</td>\n",
       "      <td>0</td>\n",
       "      <td>9</td>\n",
       "    </tr>\n",
       "    <tr>\n",
       "      <th>3</th>\n",
       "      <td>2024-09-19</td>\n",
       "      <td>2024</td>\n",
       "      <td>Strategic developments</td>\n",
       "      <td>Strategic developments</td>\n",
       "      <td>Disrupted weapons use</td>\n",
       "      <td>Police Forces of Nigeria (2023-)</td>\n",
       "      <td>1</td>\n",
       "      <td>Unknown</td>\n",
       "      <td>Kaduna</td>\n",
       "      <td>Chikun</td>\n",
       "      <td>Buruku</td>\n",
       "      <td>10.6179</td>\n",
       "      <td>7.2331</td>\n",
       "      <td>0</td>\n",
       "      <td>9</td>\n",
       "    </tr>\n",
       "    <tr>\n",
       "      <th>4</th>\n",
       "      <td>2024-09-19</td>\n",
       "      <td>2024</td>\n",
       "      <td>Demonstrations</td>\n",
       "      <td>Protests</td>\n",
       "      <td>Peaceful protest</td>\n",
       "      <td>Protesters (Nigeria)</td>\n",
       "      <td>6</td>\n",
       "      <td>Unknown</td>\n",
       "      <td>Edo</td>\n",
       "      <td>Etsako East</td>\n",
       "      <td>Wanno</td>\n",
       "      <td>7.1389</td>\n",
       "      <td>6.5724</td>\n",
       "      <td>0</td>\n",
       "      <td>9</td>\n",
       "    </tr>\n",
       "  </tbody>\n",
       "</table>\n",
       "</div>"
      ],
      "text/plain": [
       "  event_date  year           disorder_type              event_type  \\\n",
       "0 2024-09-20  2024          Demonstrations                Protests   \n",
       "1 2024-09-20  2024          Demonstrations                Protests   \n",
       "2 2024-09-19  2024          Demonstrations                Protests   \n",
       "3 2024-09-19  2024  Strategic developments  Strategic developments   \n",
       "4 2024-09-19  2024          Demonstrations                Protests   \n",
       "\n",
       "          sub_event_type                            actor1  inter1  \\\n",
       "0       Peaceful protest              Protesters (Nigeria)       6   \n",
       "1       Peaceful protest              Protesters (Nigeria)       6   \n",
       "2       Peaceful protest              Protesters (Nigeria)       6   \n",
       "3  Disrupted weapons use  Police Forces of Nigeria (2023-)       1   \n",
       "4       Peaceful protest              Protesters (Nigeria)       6   \n",
       "\n",
       "  civilian_targeting  admin1           admin2 location  latitude  longitude  \\\n",
       "0            Unknown   Borno  Maiduguri Metro   Bolori   11.8826    13.0890   \n",
       "1            Unknown    Osun      Ife Central  Ile-Ife    7.4824     4.5603   \n",
       "2            Unknown     Oyo     Ibadan North    Agodi    7.4035     3.9132   \n",
       "3            Unknown  Kaduna           Chikun   Buruku   10.6179     7.2331   \n",
       "4            Unknown     Edo      Etsako East    Wanno    7.1389     6.5724   \n",
       "\n",
       "   fatalities  month  \n",
       "0           0      9  \n",
       "1           0      9  \n",
       "2           0      9  \n",
       "3           0      9  \n",
       "4           0      9  "
      ]
     },
     "execution_count": 161,
     "metadata": {},
     "output_type": "execute_result"
    }
   ],
   "source": [
    "df.head()"
   ]
  },
  {
   "cell_type": "code",
   "execution_count": 162,
   "metadata": {},
   "outputs": [],
   "source": [
    "#Drop the event_data column\n",
    "df.drop(columns='event_date', inplace=True)"
   ]
  },
  {
   "cell_type": "code",
   "execution_count": 164,
   "metadata": {},
   "outputs": [],
   "source": [
    "#Import necessary libraries\n",
    "\n",
    "from sklearn.preprocessing import LabelEncoder\n",
    "from sklearn.linear_model import LinearRegression\n",
    "from sklearn.ensemble import RandomForestRegressor, GradientBoostingRegressor\n",
    "from xgboost import XGBRegressor\n",
    "from sklearn.tree import DecisionTreeRegressor\n",
    "from sklearn.metrics import mean_absolute_error, mean_squared_error,r2_score\n",
    "from sklearn.model_selection import GridSearchCV, train_test_split, cross_val_score, cross_validate"
   ]
  },
  {
   "cell_type": "code",
   "execution_count": 165,
   "metadata": {},
   "outputs": [],
   "source": [
    "#Categorical encoding using label encoding \n",
    "\n",
    "label = LabelEncoder()\n",
    "\n",
    "for var in cat_col: \n",
    "    df[var]  = label.fit_transform(df[var])"
   ]
  },
  {
   "cell_type": "code",
   "execution_count": 166,
   "metadata": {},
   "outputs": [
    {
     "data": {
      "text/html": [
       "<div>\n",
       "<style scoped>\n",
       "    .dataframe tbody tr th:only-of-type {\n",
       "        vertical-align: middle;\n",
       "    }\n",
       "\n",
       "    .dataframe tbody tr th {\n",
       "        vertical-align: top;\n",
       "    }\n",
       "\n",
       "    .dataframe thead th {\n",
       "        text-align: right;\n",
       "    }\n",
       "</style>\n",
       "<table border=\"1\" class=\"dataframe\">\n",
       "  <thead>\n",
       "    <tr style=\"text-align: right;\">\n",
       "      <th></th>\n",
       "      <th>year</th>\n",
       "      <th>disorder_type</th>\n",
       "      <th>event_type</th>\n",
       "      <th>sub_event_type</th>\n",
       "      <th>actor1</th>\n",
       "      <th>inter1</th>\n",
       "      <th>civilian_targeting</th>\n",
       "      <th>admin1</th>\n",
       "      <th>admin2</th>\n",
       "      <th>location</th>\n",
       "      <th>latitude</th>\n",
       "      <th>longitude</th>\n",
       "      <th>fatalities</th>\n",
       "      <th>month</th>\n",
       "    </tr>\n",
       "  </thead>\n",
       "  <tbody>\n",
       "    <tr>\n",
       "      <th>0</th>\n",
       "      <td>2024</td>\n",
       "      <td>0</td>\n",
       "      <td>2</td>\n",
       "      <td>17</td>\n",
       "      <td>737</td>\n",
       "      <td>6</td>\n",
       "      <td>1</td>\n",
       "      <td>7</td>\n",
       "      <td>458</td>\n",
       "      <td>775</td>\n",
       "      <td>11.8826</td>\n",
       "      <td>13.0890</td>\n",
       "      <td>0</td>\n",
       "      <td>9</td>\n",
       "    </tr>\n",
       "    <tr>\n",
       "      <th>1</th>\n",
       "      <td>2024</td>\n",
       "      <td>0</td>\n",
       "      <td>2</td>\n",
       "      <td>17</td>\n",
       "      <td>737</td>\n",
       "      <td>6</td>\n",
       "      <td>1</td>\n",
       "      <td>29</td>\n",
       "      <td>286</td>\n",
       "      <td>2095</td>\n",
       "      <td>7.4824</td>\n",
       "      <td>4.5603</td>\n",
       "      <td>0</td>\n",
       "      <td>9</td>\n",
       "    </tr>\n",
       "    <tr>\n",
       "      <th>2</th>\n",
       "      <td>2024</td>\n",
       "      <td>0</td>\n",
       "      <td>2</td>\n",
       "      <td>17</td>\n",
       "      <td>737</td>\n",
       "      <td>6</td>\n",
       "      <td>1</td>\n",
       "      <td>30</td>\n",
       "      <td>263</td>\n",
       "      <td>153</td>\n",
       "      <td>7.4035</td>\n",
       "      <td>3.9132</td>\n",
       "      <td>0</td>\n",
       "      <td>9</td>\n",
       "    </tr>\n",
       "    <tr>\n",
       "      <th>3</th>\n",
       "      <td>2024</td>\n",
       "      <td>3</td>\n",
       "      <td>4</td>\n",
       "      <td>7</td>\n",
       "      <td>723</td>\n",
       "      <td>1</td>\n",
       "      <td>1</td>\n",
       "      <td>18</td>\n",
       "      <td>131</td>\n",
       "      <td>867</td>\n",
       "      <td>10.6179</td>\n",
       "      <td>7.2331</td>\n",
       "      <td>0</td>\n",
       "      <td>9</td>\n",
       "    </tr>\n",
       "    <tr>\n",
       "      <th>4</th>\n",
       "      <td>2024</td>\n",
       "      <td>0</td>\n",
       "      <td>2</td>\n",
       "      <td>17</td>\n",
       "      <td>737</td>\n",
       "      <td>6</td>\n",
       "      <td>1</td>\n",
       "      <td>11</td>\n",
       "      <td>200</td>\n",
       "      <td>4918</td>\n",
       "      <td>7.1389</td>\n",
       "      <td>6.5724</td>\n",
       "      <td>0</td>\n",
       "      <td>9</td>\n",
       "    </tr>\n",
       "  </tbody>\n",
       "</table>\n",
       "</div>"
      ],
      "text/plain": [
       "   year  disorder_type  event_type  sub_event_type  actor1  inter1  \\\n",
       "0  2024              0           2              17     737       6   \n",
       "1  2024              0           2              17     737       6   \n",
       "2  2024              0           2              17     737       6   \n",
       "3  2024              3           4               7     723       1   \n",
       "4  2024              0           2              17     737       6   \n",
       "\n",
       "   civilian_targeting  admin1  admin2  location  latitude  longitude  \\\n",
       "0                   1       7     458       775   11.8826    13.0890   \n",
       "1                   1      29     286      2095    7.4824     4.5603   \n",
       "2                   1      30     263       153    7.4035     3.9132   \n",
       "3                   1      18     131       867   10.6179     7.2331   \n",
       "4                   1      11     200      4918    7.1389     6.5724   \n",
       "\n",
       "   fatalities  month  \n",
       "0           0      9  \n",
       "1           0      9  \n",
       "2           0      9  \n",
       "3           0      9  \n",
       "4           0      9  "
      ]
     },
     "execution_count": 166,
     "metadata": {},
     "output_type": "execute_result"
    }
   ],
   "source": [
    "df.head()"
   ]
  },
  {
   "cell_type": "code",
   "execution_count": 167,
   "metadata": {},
   "outputs": [],
   "source": [
    "\n",
    "X = df.drop(columns='fatalities')\n",
    "y = df['fatalities']"
   ]
  },
  {
   "cell_type": "code",
   "execution_count": 168,
   "metadata": {},
   "outputs": [],
   "source": [
    "#Train test split \n",
    "\n",
    "X_train, X_test, y_train, y_test = train_test_split(X, y, test_size=0.3, random_state=42)"
   ]
  },
  {
   "cell_type": "code",
   "execution_count": 169,
   "metadata": {},
   "outputs": [],
   "source": [
    "#Model Building\n",
    "\n",
    "models = {\n",
    "    'Linear_Model': LinearRegression(),\n",
    "    'Random Forest' : RandomForestRegressor(),\n",
    "    'Decision Tree' : DecisionTreeRegressor(),\n",
    "    'Gradient Boosting': GradientBoostingRegressor(),\n",
    "    'XGBOOST': XGBRegressor()\n",
    "}\n",
    "\n",
    "model_result = {}\n",
    "\n",
    "for model_name, model in models.items():\n",
    "    model.fit(X_train,y_train)\n",
    "    y_pred = model.predict(X_test)\n",
    "    mae = mean_absolute_error(y_test, y_pred)\n",
    "    mse = mean_squared_error(y_test, y_pred)\n",
    "    rmse = mean_squared_error(y_test,y_pred , squared=False)\n",
    "    model_result[model_name] = {'MAE': mae, 'Root_mean_squared_error': rmse,\n",
    "                               'MSE': mse}\n"
   ]
  },
  {
   "cell_type": "code",
   "execution_count": 171,
   "metadata": {},
   "outputs": [
    {
     "data": {
      "text/html": [
       "<div>\n",
       "<style scoped>\n",
       "    .dataframe tbody tr th:only-of-type {\n",
       "        vertical-align: middle;\n",
       "    }\n",
       "\n",
       "    .dataframe tbody tr th {\n",
       "        vertical-align: top;\n",
       "    }\n",
       "\n",
       "    .dataframe thead th {\n",
       "        text-align: right;\n",
       "    }\n",
       "</style>\n",
       "<table border=\"1\" class=\"dataframe\">\n",
       "  <thead>\n",
       "    <tr style=\"text-align: right;\">\n",
       "      <th></th>\n",
       "      <th>MAE</th>\n",
       "      <th>Root_mean_squared_error</th>\n",
       "      <th>MSE</th>\n",
       "    </tr>\n",
       "  </thead>\n",
       "  <tbody>\n",
       "    <tr>\n",
       "      <th>Linear_Model</th>\n",
       "      <td>3.989579</td>\n",
       "      <td>11.671423</td>\n",
       "      <td>136.222111</td>\n",
       "    </tr>\n",
       "    <tr>\n",
       "      <th>Random Forest</th>\n",
       "      <td>3.476327</td>\n",
       "      <td>12.110778</td>\n",
       "      <td>146.670952</td>\n",
       "    </tr>\n",
       "    <tr>\n",
       "      <th>Decision Tree</th>\n",
       "      <td>4.101278</td>\n",
       "      <td>19.094792</td>\n",
       "      <td>364.611101</td>\n",
       "    </tr>\n",
       "    <tr>\n",
       "      <th>Gradient Boosting</th>\n",
       "      <td>3.425965</td>\n",
       "      <td>11.095971</td>\n",
       "      <td>123.120563</td>\n",
       "    </tr>\n",
       "    <tr>\n",
       "      <th>XGBOOST</th>\n",
       "      <td>3.627129</td>\n",
       "      <td>12.054561</td>\n",
       "      <td>145.312453</td>\n",
       "    </tr>\n",
       "  </tbody>\n",
       "</table>\n",
       "</div>"
      ],
      "text/plain": [
       "                        MAE  Root_mean_squared_error         MSE\n",
       "Linear_Model       3.989579                11.671423  136.222111\n",
       "Random Forest      3.476327                12.110778  146.670952\n",
       "Decision Tree      4.101278                19.094792  364.611101\n",
       "Gradient Boosting  3.425965                11.095971  123.120563\n",
       "XGBOOST            3.627129                12.054561  145.312453"
      ]
     },
     "execution_count": 171,
     "metadata": {},
     "output_type": "execute_result"
    }
   ],
   "source": [
    "#model Result\n",
    "\n",
    "pd.DataFrame(model_result).T\n"
   ]
  },
  {
   "cell_type": "code",
   "execution_count": 153,
   "metadata": {},
   "outputs": [
    {
     "data": {
      "image/png": "[encoded data removed]",
      "text/plain": [
       "<Figure size 640x480 with 1 Axes>"
      ]
     },
     "metadata": {},
     "output_type": "display_data"
    }
   ],
   "source": [
    "pd.DataFrame(model_result).T.plot(kind='barh')\n",
    "plt.legend(loc='best', bbox_to_anchor=(0.5, 0., 0.5, 0.5));"
   ]
  },
  {
   "cell_type": "markdown",
   "metadata": {},
   "source": [
    "### Gradient Boosting hyperparameter tuning using Grid Search"
   ]
  },
  {
   "cell_type": "code",
   "execution_count": 172,
   "metadata": {},
   "outputs": [],
   "source": [
    "gb = GradientBoostingRegressor()\n",
    "\n",
    "param_grid = {\n",
    "    'n_estimators': [200,400, 700],\n",
    "    'max_depth': [10,20,30],\n",
    "    'max_leaf_nodes': [50, 100]\n",
    "}\n",
    "\n",
    "grid_model = GridSearchCV(\n",
    "        estimator=gb,\n",
    "        param_grid=param_grid, \n",
    "        cv=5, \n",
    "        n_jobs=-1, \n",
    "        scoring='neg_root_mean_squared_error',\n",
    "        verbose=0\n",
    "    )\n",
    "model = grid_model.fit(X_train, y_train)"
   ]
  },
  {
   "cell_type": "code",
   "execution_count": 173,
   "metadata": {},
   "outputs": [
    {
     "data": {
      "text/plain": [
       "{'max_depth': 30, 'max_leaf_nodes': 50, 'n_estimators': 200}"
      ]
     },
     "execution_count": 173,
     "metadata": {},
     "output_type": "execute_result"
    }
   ],
   "source": [
    "model.best_params_"
   ]
  },
  {
   "cell_type": "code",
   "execution_count": 174,
   "metadata": {},
   "outputs": [
    {
     "data": {
      "text/plain": [
       "-16.218770801894944"
      ]
     },
     "execution_count": 174,
     "metadata": {},
     "output_type": "execute_result"
    }
   ],
   "source": [
    "model.best_score_"
   ]
  },
  {
   "cell_type": "code",
   "execution_count": 194,
   "metadata": {},
   "outputs": [
    {
     "name": "stdout",
     "output_type": "stream",
     "text": [
      "Root mean squared error : 12.020915091652782\n"
     ]
    }
   ],
   "source": [
    "#Model Evaluation\n",
    "\n",
    "rmse_gb = mean_squared_error(y_test, model.predict(X_test), squared=False)\n",
    "\n",
    "print(f\"Root mean squared error : {rmse_gb}\")"
   ]
  },
  {
   "cell_type": "markdown",
   "metadata": {},
   "source": [
    "### Xgboost hyperparameter tuning using Hyperopt "
   ]
  },
  {
   "cell_type": "code",
   "execution_count": 177,
   "metadata": {},
   "outputs": [],
   "source": [
    "from hyperopt import hp, fmin, rand, Trials, tpe\n"
   ]
  },
  {
   "cell_type": "code",
   "execution_count": 195,
   "metadata": {},
   "outputs": [],
   "source": [
    "param_space = {\n",
    "    'n_estimators': hp.quniform('n_estimators', 200, 2500, 100),\n",
    "    'max_depth': hp.quniform('max_depth', 1, 10, 1),\n",
    "    'learning_rate': hp.loguniform('learning_rate', np.log(0.001), np.log(1)),\n",
    "    'gamma': hp.loguniform('gamma', np.log(0.01), np.log(10)),\n",
    "    'subsample': hp.uniform('subsample', 0.50, 0.90),\n",
    "    'colsample_bytree': hp.uniform('colsample_bytree', 0.50, 0.99),\n",
    "    'colsample_bylevel': hp.uniform('colsample_bylevel', 0.50, 0.99),\n",
    "    'colsample_bynode': hp.uniform('colsample_bynode', 0.50, 0.99),\n",
    "    'reg_lambda': hp.uniform('reg_lambda', 1, 20)\n",
    "}"
   ]
  },
  {
   "cell_type": "code",
   "execution_count": 196,
   "metadata": {},
   "outputs": [],
   "source": [
    "def objective(param):\n",
    "    param_dict = {\n",
    "        'n_estimators': int(param['n_estimators']),\n",
    "        'max_depth' : int(param['max_depth']),\n",
    "        'learning_rate' : param['learning_rate'],\n",
    "        'gamma' : param['gamma'],\n",
    "        'subsample' : param['subsample'],\n",
    "        'colsample_bytree' : param['colsample_bytree'],\n",
    "        'colsample_bylevel' : param['colsample_bylevel'],\n",
    "        'colsample_bynode' : param['colsample_bynode'],\n",
    "        'reg_lambda' : param['reg_lambda']\n",
    "        \n",
    "    }\n",
    "    \n",
    "    xgb = XGBRegressor(**param_dict)\n",
    "    score = cross_val_score(xgb, X_train,y_train ,cv=5, \n",
    "                           scoring='neg_root_mean_squared_error', n_jobs=-1).mean()\n",
    "    \n",
    "    return score"
   ]
  },
  {
   "cell_type": "code",
   "execution_count": 197,
   "metadata": {},
   "outputs": [
    {
     "name": "stdout",
     "output_type": "stream",
     "text": [
      "100%|█████████████████████████████████████████████████| 5/5 [00:50<00:00, 10.11s/trial, best loss: -15.834473610732038]\n"
     ]
    }
   ],
   "source": [
    "tpe_search = fmin(fn=objective,\n",
    "                 space=param_space,\n",
    "                  algo=tpe.suggest,\n",
    "                 max_evals=5,\n",
    "                 rstate=np.random.default_rng(42))"
   ]
  },
  {
   "cell_type": "code",
   "execution_count": 198,
   "metadata": {},
   "outputs": [
    {
     "data": {
      "text/plain": [
       "{'colsample_bylevel': 0.7372506038608606,\n",
       " 'colsample_bynode': 0.6587595275005627,\n",
       " 'colsample_bytree': 0.8506236449654188,\n",
       " 'gamma': 0.02194768920015761,\n",
       " 'learning_rate': 0.20117276880696025,\n",
       " 'max_depth': 7.0,\n",
       " 'n_estimators': 2200.0,\n",
       " 'reg_lambda': 12.782260955856179,\n",
       " 'subsample': 0.8254621630561152}"
      ]
     },
     "execution_count": 198,
     "metadata": {},
     "output_type": "execute_result"
    }
   ],
   "source": [
    "tpe_search "
   ]
  },
  {
   "cell_type": "code",
   "execution_count": 199,
   "metadata": {},
   "outputs": [],
   "source": [
    "# converting the parameters from float to integer\n",
    "\n",
    "tpe_search = {key : int(value) if key in ('n_estimators','max_depth') else value for key, value in tpe_search.items()}"
   ]
  },
  {
   "cell_type": "code",
   "execution_count": 200,
   "metadata": {},
   "outputs": [
    {
     "data": {
      "text/plain": [
       "{'colsample_bylevel': 0.7372506038608606,\n",
       " 'colsample_bynode': 0.6587595275005627,\n",
       " 'colsample_bytree': 0.8506236449654188,\n",
       " 'gamma': 0.02194768920015761,\n",
       " 'learning_rate': 0.20117276880696025,\n",
       " 'max_depth': 7,\n",
       " 'n_estimators': 2200,\n",
       " 'reg_lambda': 12.782260955856179,\n",
       " 'subsample': 0.8254621630561152}"
      ]
     },
     "execution_count": 200,
     "metadata": {},
     "output_type": "execute_result"
    }
   ],
   "source": [
    "best_param = tpe_search\n",
    "best_param"
   ]
  },
  {
   "cell_type": "code",
   "execution_count": 184,
   "metadata": {},
   "outputs": [
    {
     "data": {
      "text/html": [
       "<style>#sk-container-id-8 {color: black;background-color: white;}#sk-container-id-8 pre{padding: 0;}#sk-container-id-8 div.sk-toggleable {background-color: white;}#sk-container-id-8 label.sk-toggleable__label {cursor: pointer;display: block;width: 100%;margin-bottom: 0;padding: 0.3em;box-sizing: border-box;text-align: center;}#sk-container-id-8 label.sk-toggleable__label-arrow:before {content: \"▸\";float: left;margin-right: 0.25em;color: #696969;}#sk-container-id-8 label.sk-toggleable__label-arrow:hover:before {color: black;}#sk-container-id-8 div.sk-estimator:hover label.sk-toggleable__label-arrow:before {color: black;}#sk-container-id-8 div.sk-toggleable__content {max-height: 0;max-width: 0;overflow: hidden;text-align: left;background-color: #f0f8ff;}#sk-container-id-8 div.sk-toggleable__content pre {margin: 0.2em;color: black;border-radius: 0.25em;background-color: #f0f8ff;}#sk-container-id-8 input.sk-toggleable__control:checked~div.sk-toggleable__content {max-height: 200px;max-width: 100%;overflow: auto;}#sk-container-id-8 input.sk-toggleable__control:checked~label.sk-toggleable__label-arrow:before {content: \"▾\";}#sk-container-id-8 div.sk-estimator input.sk-toggleable__control:checked~label.sk-toggleable__label {background-color: #d4ebff;}#sk-container-id-8 div.sk-label input.sk-toggleable__control:checked~label.sk-toggleable__label {background-color: #d4ebff;}#sk-container-id-8 input.sk-hidden--visually {border: 0;clip: rect(1px 1px 1px 1px);clip: rect(1px, 1px, 1px, 1px);height: 1px;margin: -1px;overflow: hidden;padding: 0;position: absolute;width: 1px;}#sk-container-id-8 div.sk-estimator {font-family: monospace;background-color: #f0f8ff;border: 1px dotted black;border-radius: 0.25em;box-sizing: border-box;margin-bottom: 0.5em;}#sk-container-id-8 div.sk-estimator:hover {background-color: #d4ebff;}#sk-container-id-8 div.sk-parallel-item::after {content: \"\";width: 100%;border-bottom: 1px solid gray;flex-grow: 1;}#sk-container-id-8 div.sk-label:hover label.sk-toggleable__label {background-color: #d4ebff;}#sk-container-id-8 div.sk-serial::before {content: \"\";position: absolute;border-left: 1px solid gray;box-sizing: border-box;top: 0;bottom: 0;left: 50%;z-index: 0;}#sk-container-id-8 div.sk-serial {display: flex;flex-direction: column;align-items: center;background-color: white;padding-right: 0.2em;padding-left: 0.2em;position: relative;}#sk-container-id-8 div.sk-item {position: relative;z-index: 1;}#sk-container-id-8 div.sk-parallel {display: flex;align-items: stretch;justify-content: center;background-color: white;position: relative;}#sk-container-id-8 div.sk-item::before, #sk-container-id-8 div.sk-parallel-item::before {content: \"\";position: absolute;border-left: 1px solid gray;box-sizing: border-box;top: 0;bottom: 0;left: 50%;z-index: -1;}#sk-container-id-8 div.sk-parallel-item {display: flex;flex-direction: column;z-index: 1;position: relative;background-color: white;}#sk-container-id-8 div.sk-parallel-item:first-child::after {align-self: flex-end;width: 50%;}#sk-container-id-8 div.sk-parallel-item:last-child::after {align-self: flex-start;width: 50%;}#sk-container-id-8 div.sk-parallel-item:only-child::after {width: 0;}#sk-container-id-8 div.sk-dashed-wrapped {border: 1px dashed gray;margin: 0 0.4em 0.5em 0.4em;box-sizing: border-box;padding-bottom: 0.4em;background-color: white;}#sk-container-id-8 div.sk-label label {font-family: monospace;font-weight: bold;display: inline-block;line-height: 1.2em;}#sk-container-id-8 div.sk-label-container {text-align: center;}#sk-container-id-8 div.sk-container {/* jupyter's `normalize.less` sets `[hidden] { display: none; }` but bootstrap.min.css set `[hidden] { display: none !important; }` so we also need the `!important` here to be able to override the default hidden behavior on the sphinx rendered scikit-learn.org. See: https://github.com/scikit-learn/scikit-learn/issues/21755 */display: inline-block !important;position: relative;}#sk-container-id-8 div.sk-text-repr-fallback {display: none;}</style><div id=\"sk-container-id-8\" class=\"sk-top-container\"><div class=\"sk-text-repr-fallback\"><pre>XGBRegressor(base_score=None, booster=None, callbacks=None,\n",
       "             colsample_bylevel=0.7372506038608606,\n",
       "             colsample_bynode=0.6587595275005627,\n",
       "             colsample_bytree=0.8506236449654188, device=None,\n",
       "             early_stopping_rounds=None, enable_categorical=False,\n",
       "             eval_metric=None, feature_types=None, gamma=0.02194768920015761,\n",
       "             grow_policy=None, importance_type=None,\n",
       "             interaction_constraints=None, learning_rate=0.20117276880696025,\n",
       "             max_bin=None, max_cat_threshold=None, max_cat_to_onehot=None,\n",
       "             max_delta_step=None, max_depth=7, max_leaves=None,\n",
       "             min_child_weight=None, missing=nan, monotone_constraints=None,\n",
       "             multi_strategy=None, n_estimators=2200, n_jobs=None,\n",
       "             num_parallel_tree=None, random_state=None, ...)</pre><b>In a Jupyter environment, please rerun this cell to show the HTML representation or trust the notebook. <br />On GitHub, the HTML representation is unable to render, please try loading this page with nbviewer.org.</b></div><div class=\"sk-container\" hidden><div class=\"sk-item\"><div class=\"sk-estimator sk-toggleable\"><input class=\"sk-toggleable__control sk-hidden--visually\" id=\"sk-estimator-id-8\" type=\"checkbox\" checked><label for=\"sk-estimator-id-8\" class=\"sk-toggleable__label sk-toggleable__label-arrow\">XGBRegressor</label><div class=\"sk-toggleable__content\"><pre>XGBRegressor(base_score=None, booster=None, callbacks=None,\n",
       "             colsample_bylevel=0.7372506038608606,\n",
       "             colsample_bynode=0.6587595275005627,\n",
       "             colsample_bytree=0.8506236449654188, device=None,\n",
       "             early_stopping_rounds=None, enable_categorical=False,\n",
       "             eval_metric=None, feature_types=None, gamma=0.02194768920015761,\n",
       "             grow_policy=None, importance_type=None,\n",
       "             interaction_constraints=None, learning_rate=0.20117276880696025,\n",
       "             max_bin=None, max_cat_threshold=None, max_cat_to_onehot=None,\n",
       "             max_delta_step=None, max_depth=7, max_leaves=None,\n",
       "             min_child_weight=None, missing=nan, monotone_constraints=None,\n",
       "             multi_strategy=None, n_estimators=2200, n_jobs=None,\n",
       "             num_parallel_tree=None, random_state=None, ...)</pre></div></div></div></div></div>"
      ],
      "text/plain": [
       "XGBRegressor(base_score=None, booster=None, callbacks=None,\n",
       "             colsample_bylevel=0.7372506038608606,\n",
       "             colsample_bynode=0.6587595275005627,\n",
       "             colsample_bytree=0.8506236449654188, device=None,\n",
       "             early_stopping_rounds=None, enable_categorical=False,\n",
       "             eval_metric=None, feature_types=None, gamma=0.02194768920015761,\n",
       "             grow_policy=None, importance_type=None,\n",
       "             interaction_constraints=None, learning_rate=0.20117276880696025,\n",
       "             max_bin=None, max_cat_threshold=None, max_cat_to_onehot=None,\n",
       "             max_delta_step=None, max_depth=7, max_leaves=None,\n",
       "             min_child_weight=None, missing=nan, monotone_constraints=None,\n",
       "             multi_strategy=None, n_estimators=2200, n_jobs=None,\n",
       "             num_parallel_tree=None, random_state=None, ...)"
      ]
     },
     "execution_count": 184,
     "metadata": {},
     "output_type": "execute_result"
    }
   ],
   "source": [
    "#Xgboost model building\n",
    "\n",
    "xgb = XGBRegressor(**best_param)\n",
    "\n",
    "xgb.fit(X_train,y_train)"
   ]
  },
  {
   "cell_type": "code",
   "execution_count": 201,
   "metadata": {},
   "outputs": [
    {
     "data": {
      "text/plain": [
       "<Axes: >"
      ]
     },
     "execution_count": 201,
     "metadata": {},
     "output_type": "execute_result"
    },
    {
     "data": {
      "image/png": "[encoded data removed]",
      "text/plain": [
       "<Figure size 1500x700 with 1 Axes>"
      ]
     },
     "metadata": {},
     "output_type": "display_data"
    }
   ],
   "source": [
    "#Xgboost Model feature Importance \n",
    "\n",
    "pd.DataFrame(xgb.feature_importances_, index = X.columns, columns=['Importance']).sort_values(\n",
    "ascending=True, by='Importance').plot(kind='barh', figsize=(15,7))"
   ]
  },
  {
   "cell_type": "code",
   "execution_count": 203,
   "metadata": {},
   "outputs": [
    {
     "name": "stdout",
     "output_type": "stream",
     "text": [
      "Root_mean_squared_xgb : 12.431635082990518\n"
     ]
    }
   ],
   "source": [
    "#Xgboost model evaluation \n",
    "\n",
    "rmse_xgb = mean_squared_error(y_test, xgb.predict(X_test), squared=False)\n",
    "\n",
    "print(f\"Root_mean_squared_xgb : {rmse_xgb}\")"
   ]
  },
  {
   "cell_type": "code",
   "execution_count": null,
   "metadata": {},
   "outputs": [],
   "source": []
  }
 ],
 "metadata": {
  "kernelspec": {
   "display_name": "Python 3 (ipykernel)",
   "language": "python",
   "name": "python3"
  },
  "language_info": {
   "codemirror_mode": {
    "name": "ipython",
    "version": 3
   },
   "file_extension": ".py",
   "mimetype": "text/x-python",
   "name": "python",
   "nbconvert_exporter": "python",
   "pygments_lexer": "ipython3",
   "version": "3.11.5"
  }
 },
 "nbformat": 4,
 "nbformat_minor": 2
}
