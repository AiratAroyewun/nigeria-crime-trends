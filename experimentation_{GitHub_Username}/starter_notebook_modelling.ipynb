{
 "cells": [
  {
   "cell_type": "markdown",
   "metadata": {},
   "source": [
    "# Hacktoberfest 2 Nigerian Crime Trends Analysis Starter Notebook\n",
    "\n",
    "### Table of Contents\n",
    "1. Data Importation\n",
    "2. Data Cleaning\n",
    "3. Exploratory Data Analysis\n",
    "4. Feature Engineering\n",
    "5. Model Training\n",
    "6. Model Evaluation"
   ]
  },
  {
   "cell_type": "markdown",
   "metadata": {},
   "source": [
    "## Data Importation"
   ]
  },
  {
   "cell_type": "code",
   "execution_count": 1,
   "metadata": {},
   "outputs": [],
   "source": [
    "# Import modules\n",
    "\n",
    "import pandas as pd\n",
    "import numpy as np\n",
    "import matplotlib.pyplot as plt\n",
    "import seaborn as sns"
   ]
  },
  {
   "cell_type": "code",
   "execution_count": 2,
   "metadata": {},
   "outputs": [],
   "source": [
    "# Import the dataset\n",
    "\n",
    "df = pd.read_csv(\"Nigeria_1997-2024_Sep20.csv\")"
   ]
  },
  {
   "cell_type": "code",
   "execution_count": 3,
   "metadata": {},
   "outputs": [
    {
     "data": {
      "text/html": [
       "<div>\n",
       "<style scoped>\n",
       "    .dataframe tbody tr th:only-of-type {\n",
       "        vertical-align: middle;\n",
       "    }\n",
       "\n",
       "    .dataframe tbody tr th {\n",
       "        vertical-align: top;\n",
       "    }\n",
       "\n",
       "    .dataframe thead th {\n",
       "        text-align: right;\n",
       "    }\n",
       "</style>\n",
       "<table border=\"1\" class=\"dataframe\">\n",
       "  <thead>\n",
       "    <tr style=\"text-align: right;\">\n",
       "      <th></th>\n",
       "      <th>event_id_cnty</th>\n",
       "      <th>event_date</th>\n",
       "      <th>year</th>\n",
       "      <th>time_precision</th>\n",
       "      <th>disorder_type</th>\n",
       "      <th>event_type</th>\n",
       "      <th>sub_event_type</th>\n",
       "      <th>actor1</th>\n",
       "      <th>assoc_actor_1</th>\n",
       "      <th>inter1</th>\n",
       "      <th>...</th>\n",
       "      <th>location</th>\n",
       "      <th>latitude</th>\n",
       "      <th>longitude</th>\n",
       "      <th>geo_precision</th>\n",
       "      <th>source</th>\n",
       "      <th>source_scale</th>\n",
       "      <th>notes</th>\n",
       "      <th>fatalities</th>\n",
       "      <th>tags</th>\n",
       "      <th>timestamp</th>\n",
       "    </tr>\n",
       "  </thead>\n",
       "  <tbody>\n",
       "    <tr>\n",
       "      <th>0</th>\n",
       "      <td>NIG38575</td>\n",
       "      <td>2024-09-20</td>\n",
       "      <td>2024</td>\n",
       "      <td>1</td>\n",
       "      <td>Demonstrations</td>\n",
       "      <td>Protests</td>\n",
       "      <td>Peaceful protest</td>\n",
       "      <td>Protesters (Nigeria)</td>\n",
       "      <td>Refugees/IDPs (Nigeria)</td>\n",
       "      <td>6</td>\n",
       "      <td>...</td>\n",
       "      <td>Bolori</td>\n",
       "      <td>11.8826</td>\n",
       "      <td>13.0890</td>\n",
       "      <td>1</td>\n",
       "      <td>Whatsapp</td>\n",
       "      <td>New media</td>\n",
       "      <td>On 20 September 2024, IDPs (flood victims) fro...</td>\n",
       "      <td>0</td>\n",
       "      <td>crowd size=no report</td>\n",
       "      <td>1727134598</td>\n",
       "    </tr>\n",
       "    <tr>\n",
       "      <th>1</th>\n",
       "      <td>NIG38585</td>\n",
       "      <td>2024-09-20</td>\n",
       "      <td>2024</td>\n",
       "      <td>2</td>\n",
       "      <td>Demonstrations</td>\n",
       "      <td>Protests</td>\n",
       "      <td>Peaceful protest</td>\n",
       "      <td>Protesters (Nigeria)</td>\n",
       "      <td>Muslim Group (Nigeria)</td>\n",
       "      <td>6</td>\n",
       "      <td>...</td>\n",
       "      <td>Ile-Ife</td>\n",
       "      <td>7.4824</td>\n",
       "      <td>4.5603</td>\n",
       "      <td>1</td>\n",
       "      <td>Daily Trust (Nigeria)</td>\n",
       "      <td>National</td>\n",
       "      <td>Around 20 September 2024 (as reported), hundre...</td>\n",
       "      <td>0</td>\n",
       "      <td>crowd size=hundreds</td>\n",
       "      <td>1727134598</td>\n",
       "    </tr>\n",
       "    <tr>\n",
       "      <th>2</th>\n",
       "      <td>NIG38581</td>\n",
       "      <td>2024-09-19</td>\n",
       "      <td>2024</td>\n",
       "      <td>1</td>\n",
       "      <td>Demonstrations</td>\n",
       "      <td>Protests</td>\n",
       "      <td>Peaceful protest</td>\n",
       "      <td>Protesters (Nigeria)</td>\n",
       "      <td>NaN</td>\n",
       "      <td>6</td>\n",
       "      <td>...</td>\n",
       "      <td>Agodi</td>\n",
       "      <td>7.4035</td>\n",
       "      <td>3.9132</td>\n",
       "      <td>1</td>\n",
       "      <td>Daily Post (Nigeria); Guardian (Nigeria); Saha...</td>\n",
       "      <td>National-Regional</td>\n",
       "      <td>On 19 September 2024, for a second consecutive...</td>\n",
       "      <td>0</td>\n",
       "      <td>crowd size=hundreds</td>\n",
       "      <td>1727134598</td>\n",
       "    </tr>\n",
       "    <tr>\n",
       "      <th>3</th>\n",
       "      <td>NIG38588</td>\n",
       "      <td>2024-09-19</td>\n",
       "      <td>2024</td>\n",
       "      <td>1</td>\n",
       "      <td>Strategic developments</td>\n",
       "      <td>Strategic developments</td>\n",
       "      <td>Disrupted weapons use</td>\n",
       "      <td>Police Forces of Nigeria (2023-)</td>\n",
       "      <td>NaN</td>\n",
       "      <td>1</td>\n",
       "      <td>...</td>\n",
       "      <td>Buruku</td>\n",
       "      <td>10.6179</td>\n",
       "      <td>7.2331</td>\n",
       "      <td>1</td>\n",
       "      <td>Daily Post (Nigeria); Nigeria Punch</td>\n",
       "      <td>National</td>\n",
       "      <td>Weapons seizure: On 19 September 2024, Police ...</td>\n",
       "      <td>0</td>\n",
       "      <td>NaN</td>\n",
       "      <td>1727134598</td>\n",
       "    </tr>\n",
       "    <tr>\n",
       "      <th>4</th>\n",
       "      <td>NIG38591</td>\n",
       "      <td>2024-09-19</td>\n",
       "      <td>2024</td>\n",
       "      <td>1</td>\n",
       "      <td>Demonstrations</td>\n",
       "      <td>Protests</td>\n",
       "      <td>Peaceful protest</td>\n",
       "      <td>Protesters (Nigeria)</td>\n",
       "      <td>PDP: People's Democratic Party</td>\n",
       "      <td>6</td>\n",
       "      <td>...</td>\n",
       "      <td>Wanno</td>\n",
       "      <td>7.1389</td>\n",
       "      <td>6.5724</td>\n",
       "      <td>1</td>\n",
       "      <td>Vanguard (Nigeria)</td>\n",
       "      <td>National</td>\n",
       "      <td>On 19 September 2024, PDP youths protested at ...</td>\n",
       "      <td>0</td>\n",
       "      <td>crowd size=no report</td>\n",
       "      <td>1727134598</td>\n",
       "    </tr>\n",
       "  </tbody>\n",
       "</table>\n",
       "<p>5 rows × 31 columns</p>\n",
       "</div>"
      ],
      "text/plain": [
       "  event_id_cnty  event_date  year  time_precision           disorder_type   \n",
       "0      NIG38575  2024-09-20  2024               1          Demonstrations  \\\n",
       "1      NIG38585  2024-09-20  2024               2          Demonstrations   \n",
       "2      NIG38581  2024-09-19  2024               1          Demonstrations   \n",
       "3      NIG38588  2024-09-19  2024               1  Strategic developments   \n",
       "4      NIG38591  2024-09-19  2024               1          Demonstrations   \n",
       "\n",
       "               event_type         sub_event_type   \n",
       "0                Protests       Peaceful protest  \\\n",
       "1                Protests       Peaceful protest   \n",
       "2                Protests       Peaceful protest   \n",
       "3  Strategic developments  Disrupted weapons use   \n",
       "4                Protests       Peaceful protest   \n",
       "\n",
       "                             actor1                   assoc_actor_1  inter1   \n",
       "0              Protesters (Nigeria)         Refugees/IDPs (Nigeria)       6  \\\n",
       "1              Protesters (Nigeria)          Muslim Group (Nigeria)       6   \n",
       "2              Protesters (Nigeria)                             NaN       6   \n",
       "3  Police Forces of Nigeria (2023-)                             NaN       1   \n",
       "4              Protesters (Nigeria)  PDP: People's Democratic Party       6   \n",
       "\n",
       "   ... location latitude  longitude  geo_precision   \n",
       "0  ...   Bolori  11.8826    13.0890              1  \\\n",
       "1  ...  Ile-Ife   7.4824     4.5603              1   \n",
       "2  ...    Agodi   7.4035     3.9132              1   \n",
       "3  ...   Buruku  10.6179     7.2331              1   \n",
       "4  ...    Wanno   7.1389     6.5724              1   \n",
       "\n",
       "                                              source       source_scale   \n",
       "0                                           Whatsapp          New media  \\\n",
       "1                              Daily Trust (Nigeria)           National   \n",
       "2  Daily Post (Nigeria); Guardian (Nigeria); Saha...  National-Regional   \n",
       "3                Daily Post (Nigeria); Nigeria Punch           National   \n",
       "4                                 Vanguard (Nigeria)           National   \n",
       "\n",
       "                                               notes fatalities   \n",
       "0  On 20 September 2024, IDPs (flood victims) fro...          0  \\\n",
       "1  Around 20 September 2024 (as reported), hundre...          0   \n",
       "2  On 19 September 2024, for a second consecutive...          0   \n",
       "3  Weapons seizure: On 19 September 2024, Police ...          0   \n",
       "4  On 19 September 2024, PDP youths protested at ...          0   \n",
       "\n",
       "                   tags   timestamp  \n",
       "0  crowd size=no report  1727134598  \n",
       "1   crowd size=hundreds  1727134598  \n",
       "2   crowd size=hundreds  1727134598  \n",
       "3                   NaN  1727134598  \n",
       "4  crowd size=no report  1727134598  \n",
       "\n",
       "[5 rows x 31 columns]"
      ]
     },
     "execution_count": 3,
     "metadata": {},
     "output_type": "execute_result"
    }
   ],
   "source": [
    "df.head()"
   ]
  },
  {
   "cell_type": "code",
   "execution_count": 4,
   "metadata": {},
   "outputs": [
    {
     "data": {
      "text/plain": [
       "(38076, 31)"
      ]
     },
     "execution_count": 4,
     "metadata": {},
     "output_type": "execute_result"
    }
   ],
   "source": [
    "df.shape"
   ]
  },
  {
   "cell_type": "markdown",
   "metadata": {},
   "source": [
    "## Data Cleaning"
   ]
  },
  {
   "cell_type": "code",
   "execution_count": 5,
   "metadata": {},
   "outputs": [
    {
     "data": {
      "text/plain": [
       "event_id_cnty             0\n",
       "event_date                0\n",
       "year                      0\n",
       "time_precision            0\n",
       "disorder_type             0\n",
       "event_type                0\n",
       "sub_event_type            0\n",
       "actor1                    0\n",
       "assoc_actor_1         27877\n",
       "inter1                    0\n",
       "actor2                 8551\n",
       "assoc_actor_2         29273\n",
       "inter2                    0\n",
       "interaction               0\n",
       "civilian_targeting    23112\n",
       "iso                       0\n",
       "region                    0\n",
       "country                   0\n",
       "admin1                    1\n",
       "admin2                    1\n",
       "admin3                38076\n",
       "location                  0\n",
       "latitude                  0\n",
       "longitude                 0\n",
       "geo_precision             0\n",
       "source                    0\n",
       "source_scale              0\n",
       "notes                     0\n",
       "fatalities                0\n",
       "tags                  30562\n",
       "timestamp                 0\n",
       "dtype: int64"
      ]
     },
     "execution_count": 5,
     "metadata": {},
     "output_type": "execute_result"
    }
   ],
   "source": [
    "df.isnull().sum()"
   ]
  },
  {
   "cell_type": "code",
   "execution_count": 6,
   "metadata": {},
   "outputs": [],
   "source": [
    "# Fetch all columns with missing values\n",
    "\n",
    "missing_cols = []\n",
    "\n",
    "for col in df.columns:\n",
    "    if df[col].isnull().sum() > 0:\n",
    "        missing_cols.append(col)"
   ]
  },
  {
   "cell_type": "code",
   "execution_count": 7,
   "metadata": {},
   "outputs": [
    {
     "data": {
      "text/plain": [
       "assoc_actor_1         27877\n",
       "actor2                 8551\n",
       "assoc_actor_2         29273\n",
       "civilian_targeting    23112\n",
       "admin1                    1\n",
       "admin2                    1\n",
       "admin3                38076\n",
       "tags                  30562\n",
       "dtype: int64"
      ]
     },
     "execution_count": 7,
     "metadata": {},
     "output_type": "execute_result"
    }
   ],
   "source": [
    "df[missing_cols].isnull().sum()"
   ]
  },
  {
   "cell_type": "code",
   "execution_count": 8,
   "metadata": {},
   "outputs": [],
   "source": [
    "# Drop all columns with missing values except admin1 and admin2\n",
    "\n",
    "missing_cols.remove('admin1')\n",
    "missing_cols.remove('admin2')\n",
    "\n",
    "df.drop(missing_cols, inplace=True, axis=1)"
   ]
  },
  {
   "cell_type": "code",
   "execution_count": 9,
   "metadata": {},
   "outputs": [
    {
     "data": {
      "text/plain": [
       "(38076, 25)"
      ]
     },
     "execution_count": 9,
     "metadata": {},
     "output_type": "execute_result"
    }
   ],
   "source": [
    "df.shape"
   ]
  },
  {
   "cell_type": "code",
   "execution_count": 10,
   "metadata": {},
   "outputs": [
    {
     "data": {
      "text/html": [
       "<div>\n",
       "<style scoped>\n",
       "    .dataframe tbody tr th:only-of-type {\n",
       "        vertical-align: middle;\n",
       "    }\n",
       "\n",
       "    .dataframe tbody tr th {\n",
       "        vertical-align: top;\n",
       "    }\n",
       "\n",
       "    .dataframe thead th {\n",
       "        text-align: right;\n",
       "    }\n",
       "</style>\n",
       "<table border=\"1\" class=\"dataframe\">\n",
       "  <thead>\n",
       "    <tr style=\"text-align: right;\">\n",
       "      <th></th>\n",
       "      <th>event_id_cnty</th>\n",
       "      <th>event_date</th>\n",
       "      <th>year</th>\n",
       "      <th>time_precision</th>\n",
       "      <th>disorder_type</th>\n",
       "      <th>event_type</th>\n",
       "      <th>sub_event_type</th>\n",
       "      <th>actor1</th>\n",
       "      <th>inter1</th>\n",
       "      <th>inter2</th>\n",
       "      <th>...</th>\n",
       "      <th>admin2</th>\n",
       "      <th>location</th>\n",
       "      <th>latitude</th>\n",
       "      <th>longitude</th>\n",
       "      <th>geo_precision</th>\n",
       "      <th>source</th>\n",
       "      <th>source_scale</th>\n",
       "      <th>notes</th>\n",
       "      <th>fatalities</th>\n",
       "      <th>timestamp</th>\n",
       "    </tr>\n",
       "  </thead>\n",
       "  <tbody>\n",
       "    <tr>\n",
       "      <th>0</th>\n",
       "      <td>NIG38575</td>\n",
       "      <td>2024-09-20</td>\n",
       "      <td>2024</td>\n",
       "      <td>1</td>\n",
       "      <td>Demonstrations</td>\n",
       "      <td>Protests</td>\n",
       "      <td>Peaceful protest</td>\n",
       "      <td>Protesters (Nigeria)</td>\n",
       "      <td>6</td>\n",
       "      <td>0</td>\n",
       "      <td>...</td>\n",
       "      <td>Maiduguri Metro</td>\n",
       "      <td>Bolori</td>\n",
       "      <td>11.8826</td>\n",
       "      <td>13.0890</td>\n",
       "      <td>1</td>\n",
       "      <td>Whatsapp</td>\n",
       "      <td>New media</td>\n",
       "      <td>On 20 September 2024, IDPs (flood victims) fro...</td>\n",
       "      <td>0</td>\n",
       "      <td>1727134598</td>\n",
       "    </tr>\n",
       "    <tr>\n",
       "      <th>1</th>\n",
       "      <td>NIG38585</td>\n",
       "      <td>2024-09-20</td>\n",
       "      <td>2024</td>\n",
       "      <td>2</td>\n",
       "      <td>Demonstrations</td>\n",
       "      <td>Protests</td>\n",
       "      <td>Peaceful protest</td>\n",
       "      <td>Protesters (Nigeria)</td>\n",
       "      <td>6</td>\n",
       "      <td>0</td>\n",
       "      <td>...</td>\n",
       "      <td>Ife Central</td>\n",
       "      <td>Ile-Ife</td>\n",
       "      <td>7.4824</td>\n",
       "      <td>4.5603</td>\n",
       "      <td>1</td>\n",
       "      <td>Daily Trust (Nigeria)</td>\n",
       "      <td>National</td>\n",
       "      <td>Around 20 September 2024 (as reported), hundre...</td>\n",
       "      <td>0</td>\n",
       "      <td>1727134598</td>\n",
       "    </tr>\n",
       "    <tr>\n",
       "      <th>2</th>\n",
       "      <td>NIG38581</td>\n",
       "      <td>2024-09-19</td>\n",
       "      <td>2024</td>\n",
       "      <td>1</td>\n",
       "      <td>Demonstrations</td>\n",
       "      <td>Protests</td>\n",
       "      <td>Peaceful protest</td>\n",
       "      <td>Protesters (Nigeria)</td>\n",
       "      <td>6</td>\n",
       "      <td>0</td>\n",
       "      <td>...</td>\n",
       "      <td>Ibadan North</td>\n",
       "      <td>Agodi</td>\n",
       "      <td>7.4035</td>\n",
       "      <td>3.9132</td>\n",
       "      <td>1</td>\n",
       "      <td>Daily Post (Nigeria); Guardian (Nigeria); Saha...</td>\n",
       "      <td>National-Regional</td>\n",
       "      <td>On 19 September 2024, for a second consecutive...</td>\n",
       "      <td>0</td>\n",
       "      <td>1727134598</td>\n",
       "    </tr>\n",
       "    <tr>\n",
       "      <th>3</th>\n",
       "      <td>NIG38588</td>\n",
       "      <td>2024-09-19</td>\n",
       "      <td>2024</td>\n",
       "      <td>1</td>\n",
       "      <td>Strategic developments</td>\n",
       "      <td>Strategic developments</td>\n",
       "      <td>Disrupted weapons use</td>\n",
       "      <td>Police Forces of Nigeria (2023-)</td>\n",
       "      <td>1</td>\n",
       "      <td>4</td>\n",
       "      <td>...</td>\n",
       "      <td>Chikun</td>\n",
       "      <td>Buruku</td>\n",
       "      <td>10.6179</td>\n",
       "      <td>7.2331</td>\n",
       "      <td>1</td>\n",
       "      <td>Daily Post (Nigeria); Nigeria Punch</td>\n",
       "      <td>National</td>\n",
       "      <td>Weapons seizure: On 19 September 2024, Police ...</td>\n",
       "      <td>0</td>\n",
       "      <td>1727134598</td>\n",
       "    </tr>\n",
       "    <tr>\n",
       "      <th>4</th>\n",
       "      <td>NIG38591</td>\n",
       "      <td>2024-09-19</td>\n",
       "      <td>2024</td>\n",
       "      <td>1</td>\n",
       "      <td>Demonstrations</td>\n",
       "      <td>Protests</td>\n",
       "      <td>Peaceful protest</td>\n",
       "      <td>Protesters (Nigeria)</td>\n",
       "      <td>6</td>\n",
       "      <td>0</td>\n",
       "      <td>...</td>\n",
       "      <td>Etsako East</td>\n",
       "      <td>Wanno</td>\n",
       "      <td>7.1389</td>\n",
       "      <td>6.5724</td>\n",
       "      <td>1</td>\n",
       "      <td>Vanguard (Nigeria)</td>\n",
       "      <td>National</td>\n",
       "      <td>On 19 September 2024, PDP youths protested at ...</td>\n",
       "      <td>0</td>\n",
       "      <td>1727134598</td>\n",
       "    </tr>\n",
       "  </tbody>\n",
       "</table>\n",
       "<p>5 rows × 25 columns</p>\n",
       "</div>"
      ],
      "text/plain": [
       "  event_id_cnty  event_date  year  time_precision           disorder_type   \n",
       "0      NIG38575  2024-09-20  2024               1          Demonstrations  \\\n",
       "1      NIG38585  2024-09-20  2024               2          Demonstrations   \n",
       "2      NIG38581  2024-09-19  2024               1          Demonstrations   \n",
       "3      NIG38588  2024-09-19  2024               1  Strategic developments   \n",
       "4      NIG38591  2024-09-19  2024               1          Demonstrations   \n",
       "\n",
       "               event_type         sub_event_type   \n",
       "0                Protests       Peaceful protest  \\\n",
       "1                Protests       Peaceful protest   \n",
       "2                Protests       Peaceful protest   \n",
       "3  Strategic developments  Disrupted weapons use   \n",
       "4                Protests       Peaceful protest   \n",
       "\n",
       "                             actor1  inter1  inter2  ...           admin2   \n",
       "0              Protesters (Nigeria)       6       0  ...  Maiduguri Metro  \\\n",
       "1              Protesters (Nigeria)       6       0  ...      Ife Central   \n",
       "2              Protesters (Nigeria)       6       0  ...     Ibadan North   \n",
       "3  Police Forces of Nigeria (2023-)       1       4  ...           Chikun   \n",
       "4              Protesters (Nigeria)       6       0  ...      Etsako East   \n",
       "\n",
       "   location latitude longitude geo_precision   \n",
       "0    Bolori  11.8826   13.0890             1  \\\n",
       "1   Ile-Ife   7.4824    4.5603             1   \n",
       "2     Agodi   7.4035    3.9132             1   \n",
       "3    Buruku  10.6179    7.2331             1   \n",
       "4     Wanno   7.1389    6.5724             1   \n",
       "\n",
       "                                              source       source_scale   \n",
       "0                                           Whatsapp          New media  \\\n",
       "1                              Daily Trust (Nigeria)           National   \n",
       "2  Daily Post (Nigeria); Guardian (Nigeria); Saha...  National-Regional   \n",
       "3                Daily Post (Nigeria); Nigeria Punch           National   \n",
       "4                                 Vanguard (Nigeria)           National   \n",
       "\n",
       "                                               notes  fatalities   timestamp  \n",
       "0  On 20 September 2024, IDPs (flood victims) fro...           0  1727134598  \n",
       "1  Around 20 September 2024 (as reported), hundre...           0  1727134598  \n",
       "2  On 19 September 2024, for a second consecutive...           0  1727134598  \n",
       "3  Weapons seizure: On 19 September 2024, Police ...           0  1727134598  \n",
       "4  On 19 September 2024, PDP youths protested at ...           0  1727134598  \n",
       "\n",
       "[5 rows x 25 columns]"
      ]
     },
     "execution_count": 10,
     "metadata": {},
     "output_type": "execute_result"
    }
   ],
   "source": [
    "df.head()"
   ]
  },
  {
   "cell_type": "code",
   "execution_count": 11,
   "metadata": {},
   "outputs": [],
   "source": [
    "# Drop missing rows in admin1 and admin2\n",
    "\n",
    "df.dropna(subset=[\"admin1\", \"admin2\"], inplace=True)"
   ]
  },
  {
   "cell_type": "markdown",
   "metadata": {},
   "source": [
    "## Exploratory Data Analysis"
   ]
  },
  {
   "cell_type": "code",
   "execution_count": 12,
   "metadata": {},
   "outputs": [
    {
     "data": {
      "text/plain": [
       "<function matplotlib.pyplot.show(close=None, block=None)>"
      ]
     },
     "execution_count": 12,
     "metadata": {},
     "output_type": "execute_result"
    },
    {
     "data": {
      "image/png": "[encoded data removed]",
      "text/plain": [
       "<Figure size 640x480 with 1 Axes>"
      ]
     },
     "metadata": {},
     "output_type": "display_data"
    }
   ],
   "source": [
    "df.groupby('admin1')['fatalities'].agg('count').nlargest(10).plot(kind='bar')\n",
    "plt.title(\"Top 10 States with the most crime fatalities\")\n",
    "plt.xlabel(\"State\")\n",
    "plt.ylabel(\"Fatality Count\")\n",
    "plt.xticks(rotation=45)\n",
    "plt.show"
   ]
  },
  {
   "cell_type": "code",
   "execution_count": 13,
   "metadata": {},
   "outputs": [
    {
     "data": {
      "text/plain": [
       "<function matplotlib.pyplot.show(close=None, block=None)>"
      ]
     },
     "execution_count": 13,
     "metadata": {},
     "output_type": "execute_result"
    },
    {
     "data": {
      "image/png": "[encoded data removed]",
      "text/plain": [
       "<Figure size 640x480 with 1 Axes>"
      ]
     },
     "metadata": {},
     "output_type": "display_data"
    }
   ],
   "source": [
    "df.groupby('admin1')['fatalities'].agg('count').nsmallest(10).plot(kind='bar')\n",
    "plt.title(\"Bottom 10 States with the most crime fatalities\")\n",
    "plt.xlabel(\"State\")\n",
    "plt.ylabel(\"Fatality Count\")\n",
    "plt.xticks(rotation=45)\n",
    "plt.show"
   ]
  },
  {
   "cell_type": "code",
   "execution_count": 14,
   "metadata": {},
   "outputs": [],
   "source": [
    "# Convert event data to date time object and extract month and day\n",
    "\n",
    "df['event_date'] = pd.to_datetime(df['event_date'])\n",
    "\n",
    "df['month'] = df['event_date'].dt.month\n",
    "df['day'] = df['event_date'].dt.day"
   ]
  },
  {
   "cell_type": "code",
   "execution_count": 15,
   "metadata": {},
   "outputs": [
    {
     "data": {
      "text/plain": [
       "<function matplotlib.pyplot.show(close=None, block=None)>"
      ]
     },
     "execution_count": 15,
     "metadata": {},
     "output_type": "execute_result"
    },
    {
     "data": {
      "image/png": "[encoded data removed]",
      "text/plain": [
       "<Figure size 640x480 with 1 Axes>"
      ]
     },
     "metadata": {},
     "output_type": "display_data"
    }
   ],
   "source": [
    "sns.barplot(x='month', y='fatalities', data=df)\n",
    "plt.title(\"Distribution of crime fatalities by event month\")\n",
    "plt.xlabel(\"Month\")\n",
    "plt.ylabel(\"Fatality Count\")\n",
    "plt.xticks(rotation=45)\n",
    "plt.show"
   ]
  },
  {
   "cell_type": "code",
   "execution_count": 16,
   "metadata": {},
   "outputs": [
    {
     "data": {
      "text/plain": [
       "<function matplotlib.pyplot.show(close=None, block=None)>"
      ]
     },
     "execution_count": 16,
     "metadata": {},
     "output_type": "execute_result"
    },
    {
     "data": {
      "image/png": "[encoded data removed]",
      "text/plain": [
       "<Figure size 640x480 with 1 Axes>"
      ]
     },
     "metadata": {},
     "output_type": "display_data"
    }
   ],
   "source": [
    "sns.barplot(x='day', y='fatalities', data=df)\n",
    "plt.title(\"Distribution of crime fatalities by event day\")\n",
    "plt.xlabel(\"Day\")\n",
    "plt.ylabel(\"Fatality Count\")\n",
    "plt.xticks(rotation=45)\n",
    "plt.show"
   ]
  },
  {
   "cell_type": "code",
   "execution_count": 17,
   "metadata": {},
   "outputs": [
    {
     "data": {
      "text/plain": [
       "<function matplotlib.pyplot.show(close=None, block=None)>"
      ]
     },
     "execution_count": 17,
     "metadata": {},
     "output_type": "execute_result"
    },
    {
     "data": {
      "image/png": "[encoded data removed]",
      "text/plain": [
       "<Figure size 640x480 with 1 Axes>"
      ]
     },
     "metadata": {},
     "output_type": "display_data"
    }
   ],
   "source": [
    "df.groupby('disorder_type')['fatalities'].agg('count').plot(kind='bar')\n",
    "plt.title(\"Distribution of crime fatalities across crime disorder types\")\n",
    "plt.xlabel(\"Disorder type\")\n",
    "plt.ylabel(\"Fatality Count\")\n",
    "plt.xticks(rotation=45)\n",
    "plt.show\n"
   ]
  },
  {
   "cell_type": "markdown",
   "metadata": {},
   "source": [
    "## Feature Engineering"
   ]
  },
  {
   "cell_type": "code",
   "execution_count": 18,
   "metadata": {},
   "outputs": [
    {
     "data": {
      "text/html": [
       "<div>\n",
       "<style scoped>\n",
       "    .dataframe tbody tr th:only-of-type {\n",
       "        vertical-align: middle;\n",
       "    }\n",
       "\n",
       "    .dataframe tbody tr th {\n",
       "        vertical-align: top;\n",
       "    }\n",
       "\n",
       "    .dataframe thead th {\n",
       "        text-align: right;\n",
       "    }\n",
       "</style>\n",
       "<table border=\"1\" class=\"dataframe\">\n",
       "  <thead>\n",
       "    <tr style=\"text-align: right;\">\n",
       "      <th></th>\n",
       "      <th>event_id_cnty</th>\n",
       "      <th>event_date</th>\n",
       "      <th>year</th>\n",
       "      <th>time_precision</th>\n",
       "      <th>disorder_type</th>\n",
       "      <th>event_type</th>\n",
       "      <th>sub_event_type</th>\n",
       "      <th>actor1</th>\n",
       "      <th>inter1</th>\n",
       "      <th>inter2</th>\n",
       "      <th>...</th>\n",
       "      <th>latitude</th>\n",
       "      <th>longitude</th>\n",
       "      <th>geo_precision</th>\n",
       "      <th>source</th>\n",
       "      <th>source_scale</th>\n",
       "      <th>notes</th>\n",
       "      <th>fatalities</th>\n",
       "      <th>timestamp</th>\n",
       "      <th>month</th>\n",
       "      <th>day</th>\n",
       "    </tr>\n",
       "  </thead>\n",
       "  <tbody>\n",
       "    <tr>\n",
       "      <th>0</th>\n",
       "      <td>NIG38575</td>\n",
       "      <td>2024-09-20</td>\n",
       "      <td>2024</td>\n",
       "      <td>1</td>\n",
       "      <td>Demonstrations</td>\n",
       "      <td>Protests</td>\n",
       "      <td>Peaceful protest</td>\n",
       "      <td>Protesters (Nigeria)</td>\n",
       "      <td>6</td>\n",
       "      <td>0</td>\n",
       "      <td>...</td>\n",
       "      <td>11.8826</td>\n",
       "      <td>13.0890</td>\n",
       "      <td>1</td>\n",
       "      <td>Whatsapp</td>\n",
       "      <td>New media</td>\n",
       "      <td>On 20 September 2024, IDPs (flood victims) fro...</td>\n",
       "      <td>0</td>\n",
       "      <td>1727134598</td>\n",
       "      <td>9</td>\n",
       "      <td>20</td>\n",
       "    </tr>\n",
       "    <tr>\n",
       "      <th>1</th>\n",
       "      <td>NIG38585</td>\n",
       "      <td>2024-09-20</td>\n",
       "      <td>2024</td>\n",
       "      <td>2</td>\n",
       "      <td>Demonstrations</td>\n",
       "      <td>Protests</td>\n",
       "      <td>Peaceful protest</td>\n",
       "      <td>Protesters (Nigeria)</td>\n",
       "      <td>6</td>\n",
       "      <td>0</td>\n",
       "      <td>...</td>\n",
       "      <td>7.4824</td>\n",
       "      <td>4.5603</td>\n",
       "      <td>1</td>\n",
       "      <td>Daily Trust (Nigeria)</td>\n",
       "      <td>National</td>\n",
       "      <td>Around 20 September 2024 (as reported), hundre...</td>\n",
       "      <td>0</td>\n",
       "      <td>1727134598</td>\n",
       "      <td>9</td>\n",
       "      <td>20</td>\n",
       "    </tr>\n",
       "    <tr>\n",
       "      <th>2</th>\n",
       "      <td>NIG38581</td>\n",
       "      <td>2024-09-19</td>\n",
       "      <td>2024</td>\n",
       "      <td>1</td>\n",
       "      <td>Demonstrations</td>\n",
       "      <td>Protests</td>\n",
       "      <td>Peaceful protest</td>\n",
       "      <td>Protesters (Nigeria)</td>\n",
       "      <td>6</td>\n",
       "      <td>0</td>\n",
       "      <td>...</td>\n",
       "      <td>7.4035</td>\n",
       "      <td>3.9132</td>\n",
       "      <td>1</td>\n",
       "      <td>Daily Post (Nigeria); Guardian (Nigeria); Saha...</td>\n",
       "      <td>National-Regional</td>\n",
       "      <td>On 19 September 2024, for a second consecutive...</td>\n",
       "      <td>0</td>\n",
       "      <td>1727134598</td>\n",
       "      <td>9</td>\n",
       "      <td>19</td>\n",
       "    </tr>\n",
       "    <tr>\n",
       "      <th>3</th>\n",
       "      <td>NIG38588</td>\n",
       "      <td>2024-09-19</td>\n",
       "      <td>2024</td>\n",
       "      <td>1</td>\n",
       "      <td>Strategic developments</td>\n",
       "      <td>Strategic developments</td>\n",
       "      <td>Disrupted weapons use</td>\n",
       "      <td>Police Forces of Nigeria (2023-)</td>\n",
       "      <td>1</td>\n",
       "      <td>4</td>\n",
       "      <td>...</td>\n",
       "      <td>10.6179</td>\n",
       "      <td>7.2331</td>\n",
       "      <td>1</td>\n",
       "      <td>Daily Post (Nigeria); Nigeria Punch</td>\n",
       "      <td>National</td>\n",
       "      <td>Weapons seizure: On 19 September 2024, Police ...</td>\n",
       "      <td>0</td>\n",
       "      <td>1727134598</td>\n",
       "      <td>9</td>\n",
       "      <td>19</td>\n",
       "    </tr>\n",
       "    <tr>\n",
       "      <th>4</th>\n",
       "      <td>NIG38591</td>\n",
       "      <td>2024-09-19</td>\n",
       "      <td>2024</td>\n",
       "      <td>1</td>\n",
       "      <td>Demonstrations</td>\n",
       "      <td>Protests</td>\n",
       "      <td>Peaceful protest</td>\n",
       "      <td>Protesters (Nigeria)</td>\n",
       "      <td>6</td>\n",
       "      <td>0</td>\n",
       "      <td>...</td>\n",
       "      <td>7.1389</td>\n",
       "      <td>6.5724</td>\n",
       "      <td>1</td>\n",
       "      <td>Vanguard (Nigeria)</td>\n",
       "      <td>National</td>\n",
       "      <td>On 19 September 2024, PDP youths protested at ...</td>\n",
       "      <td>0</td>\n",
       "      <td>1727134598</td>\n",
       "      <td>9</td>\n",
       "      <td>19</td>\n",
       "    </tr>\n",
       "  </tbody>\n",
       "</table>\n",
       "<p>5 rows × 27 columns</p>\n",
       "</div>"
      ],
      "text/plain": [
       "  event_id_cnty event_date  year  time_precision           disorder_type   \n",
       "0      NIG38575 2024-09-20  2024               1          Demonstrations  \\\n",
       "1      NIG38585 2024-09-20  2024               2          Demonstrations   \n",
       "2      NIG38581 2024-09-19  2024               1          Demonstrations   \n",
       "3      NIG38588 2024-09-19  2024               1  Strategic developments   \n",
       "4      NIG38591 2024-09-19  2024               1          Demonstrations   \n",
       "\n",
       "               event_type         sub_event_type   \n",
       "0                Protests       Peaceful protest  \\\n",
       "1                Protests       Peaceful protest   \n",
       "2                Protests       Peaceful protest   \n",
       "3  Strategic developments  Disrupted weapons use   \n",
       "4                Protests       Peaceful protest   \n",
       "\n",
       "                             actor1  inter1  inter2  ...  latitude  longitude   \n",
       "0              Protesters (Nigeria)       6       0  ...   11.8826    13.0890  \\\n",
       "1              Protesters (Nigeria)       6       0  ...    7.4824     4.5603   \n",
       "2              Protesters (Nigeria)       6       0  ...    7.4035     3.9132   \n",
       "3  Police Forces of Nigeria (2023-)       1       4  ...   10.6179     7.2331   \n",
       "4              Protesters (Nigeria)       6       0  ...    7.1389     6.5724   \n",
       "\n",
       "  geo_precision                                             source   \n",
       "0             1                                           Whatsapp  \\\n",
       "1             1                              Daily Trust (Nigeria)   \n",
       "2             1  Daily Post (Nigeria); Guardian (Nigeria); Saha...   \n",
       "3             1                Daily Post (Nigeria); Nigeria Punch   \n",
       "4             1                                 Vanguard (Nigeria)   \n",
       "\n",
       "        source_scale                                              notes   \n",
       "0          New media  On 20 September 2024, IDPs (flood victims) fro...  \\\n",
       "1           National  Around 20 September 2024 (as reported), hundre...   \n",
       "2  National-Regional  On 19 September 2024, for a second consecutive...   \n",
       "3           National  Weapons seizure: On 19 September 2024, Police ...   \n",
       "4           National  On 19 September 2024, PDP youths protested at ...   \n",
       "\n",
       "  fatalities   timestamp  month  day  \n",
       "0          0  1727134598      9   20  \n",
       "1          0  1727134598      9   20  \n",
       "2          0  1727134598      9   19  \n",
       "3          0  1727134598      9   19  \n",
       "4          0  1727134598      9   19  \n",
       "\n",
       "[5 rows x 27 columns]"
      ]
     },
     "execution_count": 18,
     "metadata": {},
     "output_type": "execute_result"
    }
   ],
   "source": [
    "df.head()"
   ]
  },
  {
   "cell_type": "code",
   "execution_count": 19,
   "metadata": {},
   "outputs": [],
   "source": [
    "df.drop(['event_id_cnty', 'event_date', 'time_precision', 'month', 'day', 'notes', 'timestamp', 'geo_precision', 'iso', 'region', 'country', 'source', 'actor1'], axis=1, inplace=True)"
   ]
  },
  {
   "cell_type": "code",
   "execution_count": 20,
   "metadata": {},
   "outputs": [],
   "source": [
    "from sklearn.preprocessing import LabelEncoder"
   ]
  },
  {
   "cell_type": "code",
   "execution_count": 21,
   "metadata": {},
   "outputs": [],
   "source": [
    "# Encode categorical columns\n",
    "\n",
    "obj_cols = df.select_dtypes(exclude=np.number).columns\n",
    "\n",
    "for col in obj_cols:\n",
    "    df[col] = LabelEncoder().fit_transform(df[col])"
   ]
  },
  {
   "cell_type": "code",
   "execution_count": 22,
   "metadata": {},
   "outputs": [],
   "source": [
    "from sklearn.model_selection import train_test_split"
   ]
  },
  {
   "cell_type": "code",
   "execution_count": 23,
   "metadata": {},
   "outputs": [],
   "source": [
    "# Split the dataset into test and train sets\n",
    "\n",
    "X = df.drop(['fatalities'], axis=1)\n",
    "y = df['fatalities']"
   ]
  },
  {
   "cell_type": "code",
   "execution_count": 24,
   "metadata": {},
   "outputs": [],
   "source": [
    "X_train, X_test, y_train, y_test = train_test_split(X, y)"
   ]
  },
  {
   "cell_type": "markdown",
   "metadata": {},
   "source": [
    "## Model Training"
   ]
  },
  {
   "cell_type": "code",
   "execution_count": 25,
   "metadata": {},
   "outputs": [],
   "source": [
    "from sklearn.linear_model import LinearRegression"
   ]
  },
  {
   "cell_type": "code",
   "execution_count": 26,
   "metadata": {},
   "outputs": [
    {
     "data": {
      "text/html": [
       "<style>#sk-container-id-1 {color: black;background-color: white;}#sk-container-id-1 pre{padding: 0;}#sk-container-id-1 div.sk-toggleable {background-color: white;}#sk-container-id-1 label.sk-toggleable__label {cursor: pointer;display: block;width: 100%;margin-bottom: 0;padding: 0.3em;box-sizing: border-box;text-align: center;}#sk-container-id-1 label.sk-toggleable__label-arrow:before {content: \"▸\";float: left;margin-right: 0.25em;color: #696969;}#sk-container-id-1 label.sk-toggleable__label-arrow:hover:before {color: black;}#sk-container-id-1 div.sk-estimator:hover label.sk-toggleable__label-arrow:before {color: black;}#sk-container-id-1 div.sk-toggleable__content {max-height: 0;max-width: 0;overflow: hidden;text-align: left;background-color: #f0f8ff;}#sk-container-id-1 div.sk-toggleable__content pre {margin: 0.2em;color: black;border-radius: 0.25em;background-color: #f0f8ff;}#sk-container-id-1 input.sk-toggleable__control:checked~div.sk-toggleable__content {max-height: 200px;max-width: 100%;overflow: auto;}#sk-container-id-1 input.sk-toggleable__control:checked~label.sk-toggleable__label-arrow:before {content: \"▾\";}#sk-container-id-1 div.sk-estimator input.sk-toggleable__control:checked~label.sk-toggleable__label {background-color: #d4ebff;}#sk-container-id-1 div.sk-label input.sk-toggleable__control:checked~label.sk-toggleable__label {background-color: #d4ebff;}#sk-container-id-1 input.sk-hidden--visually {border: 0;clip: rect(1px 1px 1px 1px);clip: rect(1px, 1px, 1px, 1px);height: 1px;margin: -1px;overflow: hidden;padding: 0;position: absolute;width: 1px;}#sk-container-id-1 div.sk-estimator {font-family: monospace;background-color: #f0f8ff;border: 1px dotted black;border-radius: 0.25em;box-sizing: border-box;margin-bottom: 0.5em;}#sk-container-id-1 div.sk-estimator:hover {background-color: #d4ebff;}#sk-container-id-1 div.sk-parallel-item::after {content: \"\";width: 100%;border-bottom: 1px solid gray;flex-grow: 1;}#sk-container-id-1 div.sk-label:hover label.sk-toggleable__label {background-color: #d4ebff;}#sk-container-id-1 div.sk-serial::before {content: \"\";position: absolute;border-left: 1px solid gray;box-sizing: border-box;top: 0;bottom: 0;left: 50%;z-index: 0;}#sk-container-id-1 div.sk-serial {display: flex;flex-direction: column;align-items: center;background-color: white;padding-right: 0.2em;padding-left: 0.2em;position: relative;}#sk-container-id-1 div.sk-item {position: relative;z-index: 1;}#sk-container-id-1 div.sk-parallel {display: flex;align-items: stretch;justify-content: center;background-color: white;position: relative;}#sk-container-id-1 div.sk-item::before, #sk-container-id-1 div.sk-parallel-item::before {content: \"\";position: absolute;border-left: 1px solid gray;box-sizing: border-box;top: 0;bottom: 0;left: 50%;z-index: -1;}#sk-container-id-1 div.sk-parallel-item {display: flex;flex-direction: column;z-index: 1;position: relative;background-color: white;}#sk-container-id-1 div.sk-parallel-item:first-child::after {align-self: flex-end;width: 50%;}#sk-container-id-1 div.sk-parallel-item:last-child::after {align-self: flex-start;width: 50%;}#sk-container-id-1 div.sk-parallel-item:only-child::after {width: 0;}#sk-container-id-1 div.sk-dashed-wrapped {border: 1px dashed gray;margin: 0 0.4em 0.5em 0.4em;box-sizing: border-box;padding-bottom: 0.4em;background-color: white;}#sk-container-id-1 div.sk-label label {font-family: monospace;font-weight: bold;display: inline-block;line-height: 1.2em;}#sk-container-id-1 div.sk-label-container {text-align: center;}#sk-container-id-1 div.sk-container {/* jupyter's `normalize.less` sets `[hidden] { display: none; }` but bootstrap.min.css set `[hidden] { display: none !important; }` so we also need the `!important` here to be able to override the default hidden behavior on the sphinx rendered scikit-learn.org. See: https://github.com/scikit-learn/scikit-learn/issues/21755 */display: inline-block !important;position: relative;}#sk-container-id-1 div.sk-text-repr-fallback {display: none;}</style><div id=\"sk-container-id-1\" class=\"sk-top-container\"><div class=\"sk-text-repr-fallback\"><pre>LinearRegression()</pre><b>In a Jupyter environment, please rerun this cell to show the HTML representation or trust the notebook. <br />On GitHub, the HTML representation is unable to render, please try loading this page with nbviewer.org.</b></div><div class=\"sk-container\" hidden><div class=\"sk-item\"><div class=\"sk-estimator sk-toggleable\"><input class=\"sk-toggleable__control sk-hidden--visually\" id=\"sk-estimator-id-1\" type=\"checkbox\" checked><label for=\"sk-estimator-id-1\" class=\"sk-toggleable__label sk-toggleable__label-arrow\">LinearRegression</label><div class=\"sk-toggleable__content\"><pre>LinearRegression()</pre></div></div></div></div></div>"
      ],
      "text/plain": [
       "LinearRegression()"
      ]
     },
     "execution_count": 26,
     "metadata": {},
     "output_type": "execute_result"
    }
   ],
   "source": [
    "model = LinearRegression()\n",
    "model.fit(X_train, y_train)"
   ]
  },
  {
   "cell_type": "markdown",
   "metadata": {},
   "source": [
    "## Model Evaluation"
   ]
  },
  {
   "cell_type": "code",
   "execution_count": 27,
   "metadata": {},
   "outputs": [],
   "source": [
    "from sklearn.metrics import mean_squared_error"
   ]
  },
  {
   "cell_type": "code",
   "execution_count": 28,
   "metadata": {},
   "outputs": [
    {
     "data": {
      "text/plain": [
       "14.232902755509112"
      ]
     },
     "execution_count": 28,
     "metadata": {},
     "output_type": "execute_result"
    }
   ],
   "source": [
    "pred = model.predict(X_test)\n",
    "np.sqrt(mean_squared_error(y_test, pred))"
   ]
  },
  {
   "cell_type": "markdown",
   "metadata": {},
   "source": [
    "<b>Feel free to experiment with other regression models</b>"
   ]
  }
 ],
 "metadata": {
  "kernelspec": {
   "display_name": "nigeria-crime-trends",
   "language": "python",
   "name": "python3"
  },
  "language_info": {
   "codemirror_mode": {
    "name": "ipython",
    "version": 3
   },
   "file_extension": ".py",
   "mimetype": "text/x-python",
   "name": "python",
   "nbconvert_exporter": "python",
   "pygments_lexer": "ipython3",
   "version": "3.11.5"
  }
 },
 "nbformat": 4,
 "nbformat_minor": 2
}
